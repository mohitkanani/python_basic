{
 "cells": [
  {
   "cell_type": "code",
   "execution_count": 1,
   "id": "73a199ba-0092-4a39-818a-f70b0b39ef49",
   "metadata": {},
   "outputs": [],
   "source": [
    "#Identity Operators"
   ]
  },
  {
   "cell_type": "code",
   "execution_count": 2,
   "id": "e7fb4ef3-0195-458a-8163-cdbbda1282c1",
   "metadata": {},
   "outputs": [
    {
     "name": "stdout",
     "output_type": "stream",
     "text": [
      "a is b False\n"
     ]
    }
   ],
   "source": [
    "a = ['x','y','z']\n",
    "b = ['x','y','z']\n",
    "print('a is b' , a is b)"
   ]
  },
  {
   "cell_type": "code",
   "execution_count": 9,
   "id": "c75cdfc4-f3f6-4e43-b848-788c6ad5a147",
   "metadata": {},
   "outputs": [
    {
     "name": "stdout",
     "output_type": "stream",
     "text": [
      "a is b True\n"
     ]
    }
   ],
   "source": [
    "a = ['x','y','z']\n",
    "b = a\n",
    "print('a is b' , a is b)"
   ]
  },
  {
   "cell_type": "code",
   "execution_count": 10,
   "id": "a07089fa-4bdd-42c1-a0ff-01f08ead036c",
   "metadata": {},
   "outputs": [
    {
     "data": {
      "text/plain": [
       "True"
      ]
     },
     "execution_count": 10,
     "metadata": {},
     "output_type": "execute_result"
    }
   ],
   "source": [
    "id(a) == id(b)"
   ]
  },
  {
   "cell_type": "code",
   "execution_count": 11,
   "id": "6fa0ed61-5a8a-4051-951d-159ae9f34c28",
   "metadata": {},
   "outputs": [
    {
     "name": "stdout",
     "output_type": "stream",
     "text": [
      "a is not b True\n"
     ]
    }
   ],
   "source": [
    "a = ['x','y','z']\n",
    "b = ['x','y','z']\n",
    "print('a is not b' , a is not b)"
   ]
  },
  {
   "cell_type": "code",
   "execution_count": 7,
   "id": "d7c9ac1e-0989-4f62-8c30-05fa98709e02",
   "metadata": {},
   "outputs": [],
   "source": [
    "#Membership Operators"
   ]
  },
  {
   "cell_type": "code",
   "execution_count": 12,
   "id": "35e72b7c-def7-437d-9bd0-f9b965a20455",
   "metadata": {},
   "outputs": [
    {
     "name": "stdout",
     "output_type": "stream",
     "text": [
      "K  in \" MOHIT \"\n",
      "True\n"
     ]
    }
   ],
   "source": [
    "x = 'K'\n",
    "y = 'MOHIT'\n",
    "print(x, ' in \"', y , '\"')\n",
    "print(x not in y)"
   ]
  },
  {
   "cell_type": "code",
   "execution_count": 13,
   "id": "f548928c-4a0b-4489-adc8-7a75e995436f",
   "metadata": {},
   "outputs": [
    {
     "data": {
      "text/plain": [
       "True"
      ]
     },
     "execution_count": 13,
     "metadata": {},
     "output_type": "execute_result"
    }
   ],
   "source": [
    "a = [20, 45, 60]\n",
    "45 in a"
   ]
  },
  {
   "cell_type": "code",
   "execution_count": 14,
   "id": "2ba482c0-f436-4973-be8a-ce380e194683",
   "metadata": {},
   "outputs": [
    {
     "data": {
      "text/plain": [
       "False"
      ]
     },
     "execution_count": 14,
     "metadata": {},
     "output_type": "execute_result"
    }
   ],
   "source": [
    "45 not in a"
   ]
  },
  {
   "cell_type": "code",
   "execution_count": null,
   "id": "bb0f15e8-aca5-4bd5-a9fb-3e7a8f706fbf",
   "metadata": {},
   "outputs": [],
   "source": []
  }
 ],
 "metadata": {
  "kernelspec": {
   "display_name": "Python 3 (ipykernel)",
   "language": "python",
   "name": "python3"
  },
  "language_info": {
   "codemirror_mode": {
    "name": "ipython",
    "version": 3
   },
   "file_extension": ".py",
   "mimetype": "text/x-python",
   "name": "python",
   "nbconvert_exporter": "python",
   "pygments_lexer": "ipython3",
   "version": "3.8.18"
  }
 },
 "nbformat": 4,
 "nbformat_minor": 5
}
