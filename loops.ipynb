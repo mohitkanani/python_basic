{
 "cells": [
  {
   "cell_type": "code",
   "execution_count": null,
   "id": "8f93fb6d-2911-4dda-9a24-e55a4e74c1c1",
   "metadata": {},
   "outputs": [],
   "source": [
    "#for loop"
   ]
  },
  {
   "cell_type": "code",
   "execution_count": 3,
   "id": "898ba023-5fb0-462e-906f-baae3868e5df",
   "metadata": {},
   "outputs": [
    {
     "name": "stdout",
     "output_type": "stream",
     "text": [
      "M\n",
      "o\n",
      "h\n",
      "i\n",
      "t\n",
      "Thank you!!\n"
     ]
    }
   ],
   "source": [
    "string = 'Mohit'\n",
    "for char in string:\n",
    "    print(char)\n",
    "print('Thank you!!')"
   ]
  },
  {
   "cell_type": "code",
   "execution_count": 4,
   "id": "0a208aa9-729d-4a44-9509-352ac903bc3b",
   "metadata": {},
   "outputs": [],
   "source": [
    "# while loop"
   ]
  },
  {
   "cell_type": "code",
   "execution_count": 6,
   "id": "73ae12c6-eae0-4baf-aede-2d3f054d3c8c",
   "metadata": {},
   "outputs": [
    {
     "name": "stdout",
     "output_type": "stream",
     "text": [
      "0\n",
      "1\n",
      "2\n",
      "3\n",
      "4\n",
      "Thank you!!\n"
     ]
    }
   ],
   "source": [
    "counter = 0\n",
    "while counter < 5:\n",
    "    print(counter)\n",
    "    counter +=1\n",
    "print('Thank you!!')"
   ]
  },
  {
   "cell_type": "code",
   "execution_count": 7,
   "id": "b64ef114-bec5-4a54-a386-6a30720c241b",
   "metadata": {},
   "outputs": [
    {
     "name": "stdout",
     "output_type": "stream",
     "text": [
      "Thank you!!\n"
     ]
    }
   ],
   "source": [
    "# while loop never executed\n",
    "counter = 5\n",
    "while counter < 5:\n",
    "    print(counter)\n",
    "    counter +=1\n",
    "print('Thank you!!')"
   ]
  },
  {
   "cell_type": "code",
   "execution_count": null,
   "id": "d7b7d032-f350-4810-baa7-2fd78c8505d2",
   "metadata": {},
   "outputs": [],
   "source": [
    "# infinite while loop\n",
    "counter = 0\n",
    "while counter < 5:\n",
    "    print(counter)\n",
    "print('Thank you!!')"
   ]
  },
  {
   "cell_type": "code",
   "execution_count": null,
   "id": "c4f6c7ac-b5d4-4f44-a683-7d03be9d1bac",
   "metadata": {},
   "outputs": [],
   "source": [
    "#nested loop"
   ]
  },
  {
   "cell_type": "code",
   "execution_count": 2,
   "id": "eb2e2b65-a518-494e-8053-e54814a915fa",
   "metadata": {},
   "outputs": [
    {
     "name": "stdout",
     "output_type": "stream",
     "text": [
      "Table of :  2\n",
      "     2 X  1 =  2    \n",
      "     2 X  2 =  4    \n",
      "     2 X  3 =  6    \n",
      "     2 X  4 =  8    \n",
      "     2 X  5 = 10    \n",
      "     2 X  6 = 12    \n",
      "     2 X  7 = 14    \n",
      "     2 X  8 = 16    \n",
      "     2 X  9 = 18    \n",
      "     2 X 10 = 20    \n",
      "\n",
      "End of multiplication table of  2 \n",
      "\n",
      "Table of :  3\n",
      "     3 X  1 =  3    \n",
      "     3 X  2 =  6    \n",
      "     3 X  3 =  9    \n",
      "     3 X  4 = 12    \n",
      "     3 X  5 = 15    \n",
      "     3 X  6 = 18    \n",
      "     3 X  7 = 21    \n",
      "     3 X  8 = 24    \n",
      "     3 X  9 = 27    \n",
      "     3 X 10 = 30    \n",
      "\n",
      "End of multiplication table of  3 \n",
      "\n",
      "Table of :  4\n",
      "     4 X  1 =  4    \n",
      "     4 X  2 =  8    \n",
      "     4 X  3 = 12    \n",
      "     4 X  4 = 16    \n",
      "     4 X  5 = 20    \n",
      "     4 X  6 = 24    \n",
      "     4 X  7 = 28    \n",
      "     4 X  8 = 32    \n",
      "     4 X  9 = 36    \n",
      "     4 X 10 = 40    \n",
      "\n",
      "End of multiplication table of  4 \n",
      "\n",
      "Table of :  5\n",
      "     5 X  1 =  5    \n",
      "     5 X  2 = 10    \n",
      "     5 X  3 = 15    \n",
      "     5 X  4 = 20    \n",
      "     5 X  5 = 25    \n",
      "     5 X  6 = 30    \n",
      "     5 X  7 = 35    \n",
      "     5 X  8 = 40    \n",
      "     5 X  9 = 45    \n",
      "     5 X 10 = 50    \n",
      "\n",
      "End of multiplication table of  5 \n",
      "\n",
      "Table of :  6\n",
      "     6 X  1 =  6    \n",
      "     6 X  2 = 12    \n",
      "     6 X  3 = 18    \n",
      "     6 X  4 = 24    \n",
      "     6 X  5 = 30    \n",
      "     6 X  6 = 36    \n",
      "     6 X  7 = 42    \n",
      "     6 X  8 = 48    \n",
      "     6 X  9 = 54    \n",
      "     6 X 10 = 60    \n",
      "\n",
      "End of multiplication table of  6 \n",
      "\n",
      "Table of :  7\n",
      "     7 X  1 =  7    \n",
      "     7 X  2 = 14    \n",
      "     7 X  3 = 21    \n",
      "     7 X  4 = 28    \n",
      "     7 X  5 = 35    \n",
      "     7 X  6 = 42    \n",
      "     7 X  7 = 49    \n",
      "     7 X  8 = 56    \n",
      "     7 X  9 = 63    \n",
      "     7 X 10 = 70    \n",
      "\n",
      "End of multiplication table of  7 \n",
      "\n",
      "Table of :  8\n",
      "     8 X  1 =  8    \n",
      "     8 X  2 = 16    \n",
      "     8 X  3 = 24    \n",
      "     8 X  4 = 32    \n",
      "     8 X  5 = 40    \n",
      "     8 X  6 = 48    \n",
      "     8 X  7 = 56    \n",
      "     8 X  8 = 64    \n",
      "     8 X  9 = 72    \n",
      "     8 X 10 = 80    \n",
      "\n",
      "End of multiplication table of  8 \n",
      "\n",
      "Table of :  9\n",
      "     9 X  1 =  9    \n",
      "     9 X  2 = 18    \n",
      "     9 X  3 = 27    \n",
      "     9 X  4 = 36    \n",
      "     9 X  5 = 45    \n",
      "     9 X  6 = 54    \n",
      "     9 X  7 = 63    \n",
      "     9 X  8 = 72    \n",
      "     9 X  9 = 81    \n",
      "     9 X 10 = 90    \n",
      "\n",
      "End of multiplication table of  9 \n",
      "\n",
      "Table of :  10\n",
      "    10 X  1 = 10    \n",
      "    10 X  2 = 20    \n",
      "    10 X  3 = 30    \n",
      "    10 X  4 = 40    \n",
      "    10 X  5 = 50    \n",
      "    10 X  6 = 60    \n",
      "    10 X  7 = 70    \n",
      "    10 X  8 = 80    \n",
      "    10 X  9 = 90    \n",
      "   10 X 10 = 100    \n",
      "\n",
      "End of multiplication table of  10 \n",
      "\n",
      "Thank you!!\n"
     ]
    }
   ],
   "source": [
    "#outer loop\n",
    "for j in range(2,11):\n",
    "    print('Table of : ', j)\n",
    "    #inner loop\n",
    "    for i in range(1,11):\n",
    "        #print multiplication\n",
    "        print('{:2d} X {:2d} = {:2d}'.format(j,i, j*i).center(20))\n",
    "    print('\\nEnd of multiplication table of ', j, '\\n')\n",
    "print('Thank you!!')"
   ]
  },
  {
   "cell_type": "code",
   "execution_count": 3,
   "id": "055f781b-0abf-44e3-a78b-09a2389c1e54",
   "metadata": {},
   "outputs": [],
   "source": [
    "# Loop Control Statement"
   ]
  },
  {
   "cell_type": "code",
   "execution_count": 4,
   "id": "3412d78e-6960-476b-8495-f289fbbe83d8",
   "metadata": {},
   "outputs": [],
   "source": [
    "# Break Statement"
   ]
  },
  {
   "cell_type": "code",
   "execution_count": 11,
   "id": "87c0ff6f-4a70-4d31-8ac5-fda9037adf36",
   "metadata": {},
   "outputs": [
    {
     "name": "stdout",
     "output_type": "stream",
     "text": [
      "K\n",
      "a\n",
      "n\n",
      "a\n",
      "n\n",
      "i\n",
      " \n",
      "M\n",
      "o\n",
      "h\n",
      "i\n",
      "End of the loop\n"
     ]
    }
   ],
   "source": [
    "for i in \"Kanani Mohit\":\n",
    "    if i == 't':\n",
    "        break\n",
    "    print(i)\n",
    "print('End of the loop')"
   ]
  },
  {
   "cell_type": "code",
   "execution_count": null,
   "id": "947dbbbf-e15a-47ff-a6a8-fc6257ddaed6",
   "metadata": {},
   "outputs": [],
   "source": [
    "# Continue Statement"
   ]
  },
  {
   "cell_type": "code",
   "execution_count": 9,
   "id": "560740c8-2c29-4b13-894b-1ac6de533935",
   "metadata": {},
   "outputs": [
    {
     "name": "stdout",
     "output_type": "stream",
     "text": [
      "K\n",
      "a\n",
      "a\n",
      "i\n",
      " \n",
      "M\n",
      "o\n",
      "h\n",
      "i\n",
      "t\n",
      "End of the loop\n"
     ]
    }
   ],
   "source": [
    "for i in \"Kanani Mohit\":\n",
    "    if i == 'n':\n",
    "        continue\n",
    "    print(i)\n",
    "print('End of the loop')"
   ]
  },
  {
   "cell_type": "code",
   "execution_count": null,
   "id": "9f5256f8-9aed-4b85-83aa-3df2526380b6",
   "metadata": {},
   "outputs": [],
   "source": [
    "# Loop Else statement (# if encounter break than else block will not execute.)"
   ]
  },
  {
   "cell_type": "code",
   "execution_count": 12,
   "id": "b9681a90-4839-44a1-bf3e-c2a9f219a36f",
   "metadata": {},
   "outputs": [
    {
     "name": "stdin",
     "output_type": "stream",
     "text": [
      "Enter edible item :  Cheese\n"
     ]
    },
    {
     "name": "stdout",
     "output_type": "stream",
     "text": [
      "Great Delicious\n"
     ]
    },
    {
     "name": "stdin",
     "output_type": "stream",
     "text": [
      "Enter edible item :  Ice Creame\n"
     ]
    },
    {
     "name": "stdout",
     "output_type": "stream",
     "text": [
      "Great Delicious\n"
     ]
    },
    {
     "name": "stdin",
     "output_type": "stream",
     "text": [
      "Enter edible item :  Carrot\n"
     ]
    },
    {
     "name": "stdout",
     "output_type": "stream",
     "text": [
      "Great Delicious\n"
     ]
    },
    {
     "name": "stdin",
     "output_type": "stream",
     "text": [
      "Enter edible item :  spam\n"
     ]
    },
    {
     "name": "stdout",
     "output_type": "stream",
     "text": [
      "No more spam please !!!\n",
      "Finally finished stuffing myself!!!\n"
     ]
    }
   ],
   "source": [
    "for i in range(5):\n",
    "    food = input('Enter edible item : ')\n",
    "    if food == 'spam':\n",
    "        print('No more spam please !!!')\n",
    "        break # if encounter break than else block will not execute.\n",
    "    print('Great Delicious')\n",
    "else :\n",
    "    print('I am so glad !! No Spam')\n",
    "print('Finally finished stuffing myself!!!')"
   ]
  },
  {
   "cell_type": "code",
   "execution_count": 13,
   "id": "3325ffab-277b-40e5-9b7a-67dd9b84eafd",
   "metadata": {},
   "outputs": [
    {
     "name": "stdin",
     "output_type": "stream",
     "text": [
      "Enter edible item :  egg\n"
     ]
    },
    {
     "name": "stdout",
     "output_type": "stream",
     "text": [
      "Great Delicious\n"
     ]
    },
    {
     "name": "stdin",
     "output_type": "stream",
     "text": [
      "Enter edible item :  bread\n"
     ]
    },
    {
     "name": "stdout",
     "output_type": "stream",
     "text": [
      "Great Delicious\n"
     ]
    },
    {
     "name": "stdin",
     "output_type": "stream",
     "text": [
      "Enter edible item :  milk\n"
     ]
    },
    {
     "name": "stdout",
     "output_type": "stream",
     "text": [
      "Great Delicious\n"
     ]
    },
    {
     "name": "stdin",
     "output_type": "stream",
     "text": [
      "Enter edible item :  coffee\n"
     ]
    },
    {
     "name": "stdout",
     "output_type": "stream",
     "text": [
      "Great Delicious\n"
     ]
    },
    {
     "name": "stdin",
     "output_type": "stream",
     "text": [
      "Enter edible item :  tea\n"
     ]
    },
    {
     "name": "stdout",
     "output_type": "stream",
     "text": [
      "Great Delicious\n",
      "I am so glad !! No Spam\n",
      "Finally finished stuffing myself!!!\n"
     ]
    }
   ],
   "source": [
    "for i in range(5):\n",
    "    food = input('Enter edible item : ')\n",
    "    if food == 'spam':\n",
    "        print('No more spam please !!!')\n",
    "        break # if encounter break than else block will not execute.\n",
    "    print('Great Delicious')\n",
    "else :\n",
    "    print('I am so glad !! No Spam')\n",
    "print('Finally finished stuffing myself!!!')"
   ]
  },
  {
   "cell_type": "code",
   "execution_count": null,
   "id": "cda8721a-e3e9-412e-a7e8-584a08df3f6b",
   "metadata": {},
   "outputs": [],
   "source": [
    "# While Else statement (# if encounter break than else block will not execute.)"
   ]
  },
  {
   "cell_type": "code",
   "execution_count": 16,
   "id": "3af65891-dd7b-4a13-90ba-e243c2ca2987",
   "metadata": {},
   "outputs": [
    {
     "name": "stdin",
     "output_type": "stream",
     "text": [
      "New Number :  8\n"
     ]
    },
    {
     "name": "stdout",
     "output_type": "stream",
     "text": [
      "Number is too large\n"
     ]
    },
    {
     "name": "stdin",
     "output_type": "stream",
     "text": [
      "New Number :  7\n"
     ]
    },
    {
     "name": "stdout",
     "output_type": "stream",
     "text": [
      "Number is too large\n"
     ]
    },
    {
     "name": "stdin",
     "output_type": "stream",
     "text": [
      "New Number :  3\n"
     ]
    },
    {
     "name": "stdout",
     "output_type": "stream",
     "text": [
      "Number is too small\n"
     ]
    },
    {
     "name": "stdin",
     "output_type": "stream",
     "text": [
      "New Number :  4\n"
     ]
    },
    {
     "name": "stdout",
     "output_type": "stream",
     "text": [
      "Number is too small\n"
     ]
    },
    {
     "name": "stdin",
     "output_type": "stream",
     "text": [
      "New Number :  5\n"
     ]
    },
    {
     "name": "stdout",
     "output_type": "stream",
     "text": [
      "Congratulations you made it!!!\n"
     ]
    }
   ],
   "source": [
    "to_be_guessed = 5\n",
    "guess = 0\n",
    "while guess != to_be_guessed:\n",
    "    guess = int(input('New Number : '))\n",
    "    if guess > 0 :\n",
    "        if guess > to_be_guessed:\n",
    "            print(\"Number is too large\")\n",
    "        elif guess < to_be_guessed:\n",
    "            print(\"Number is too small\")\n",
    "    else :\n",
    "        print('Sorry that you are giving up!!')\n",
    "        break\n",
    "else :\n",
    "    print('Congratulations you made it!!!')"
   ]
  },
  {
   "cell_type": "code",
   "execution_count": 18,
   "id": "47a87f4b-3808-4c5e-aac4-e0058d84d34c",
   "metadata": {},
   "outputs": [
    {
     "name": "stdin",
     "output_type": "stream",
     "text": [
      "New Number :  8\n"
     ]
    },
    {
     "name": "stdout",
     "output_type": "stream",
     "text": [
      "Number is too large\n"
     ]
    },
    {
     "name": "stdin",
     "output_type": "stream",
     "text": [
      "New Number :  7\n"
     ]
    },
    {
     "name": "stdout",
     "output_type": "stream",
     "text": [
      "Number is too large\n"
     ]
    },
    {
     "name": "stdin",
     "output_type": "stream",
     "text": [
      "New Number :  4\n"
     ]
    },
    {
     "name": "stdout",
     "output_type": "stream",
     "text": [
      "Number is too small\n"
     ]
    },
    {
     "name": "stdin",
     "output_type": "stream",
     "text": [
      "New Number :  3\n"
     ]
    },
    {
     "name": "stdout",
     "output_type": "stream",
     "text": [
      "Number is too small\n"
     ]
    },
    {
     "name": "stdin",
     "output_type": "stream",
     "text": [
      "New Number :  -4\n"
     ]
    },
    {
     "name": "stdout",
     "output_type": "stream",
     "text": [
      "Sorry that you are giving up!!\n"
     ]
    }
   ],
   "source": [
    "to_be_guessed = 5\n",
    "guess = 0\n",
    "while guess != to_be_guessed:\n",
    "    guess = int(input('New Number : '))\n",
    "    if guess > 0 :\n",
    "        if guess > to_be_guessed:\n",
    "            print(\"Number is too large\")\n",
    "        elif guess < to_be_guessed:\n",
    "            print(\"Number is too small\")\n",
    "    else :\n",
    "        print('Sorry that you are giving up!!')\n",
    "        break\n",
    "else :\n",
    "    print('Congratulations you made it!!!')"
   ]
  },
  {
   "cell_type": "code",
   "execution_count": null,
   "id": "68bc8e4d-b0aa-45a7-a89b-a49d55dbb408",
   "metadata": {},
   "outputs": [],
   "source": []
  }
 ],
 "metadata": {
  "kernelspec": {
   "display_name": "Python 3 (ipykernel)",
   "language": "python",
   "name": "python3"
  },
  "language_info": {
   "codemirror_mode": {
    "name": "ipython",
    "version": 3
   },
   "file_extension": ".py",
   "mimetype": "text/x-python",
   "name": "python",
   "nbconvert_exporter": "python",
   "pygments_lexer": "ipython3",
   "version": "3.8.18"
  }
 },
 "nbformat": 4,
 "nbformat_minor": 5
}
