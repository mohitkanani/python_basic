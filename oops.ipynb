{
 "cells": [
  {
   "cell_type": "markdown",
   "id": "62b90022-4c9b-49f7-9953-a640c3f4645d",
   "metadata": {},
   "source": [
    "Classes & Objects"
   ]
  },
  {
   "cell_type": "code",
   "execution_count": 2,
   "id": "730c0540-ade1-4811-8e6f-d051130e75be",
   "metadata": {},
   "outputs": [],
   "source": [
    "class demo : \n",
    "    pass"
   ]
  },
  {
   "cell_type": "code",
   "execution_count": 3,
   "id": "a7e62959-3d2e-4e52-94eb-db249aa4375e",
   "metadata": {},
   "outputs": [],
   "source": [
    "obj = demo()"
   ]
  },
  {
   "cell_type": "code",
   "execution_count": 4,
   "id": "ae1dd865-8529-4716-8c78-82fbe33ddce8",
   "metadata": {},
   "outputs": [
    {
     "name": "stdout",
     "output_type": "stream",
     "text": [
      "<__main__.demo object at 0x7fac7815caf0>\n"
     ]
    }
   ],
   "source": [
    "print(obj)"
   ]
  },
  {
   "cell_type": "code",
   "execution_count": 5,
   "id": "1dab5e0e-97b6-4c38-8be3-92d8556c2657",
   "metadata": {},
   "outputs": [
    {
     "name": "stdout",
     "output_type": "stream",
     "text": [
      "Help on demo in module __main__ object:\n",
      "\n",
      "class demo(builtins.object)\n",
      " |  Data descriptors defined here:\n",
      " |  \n",
      " |  __dict__\n",
      " |      dictionary for instance variables (if defined)\n",
      " |  \n",
      " |  __weakref__\n",
      " |      list of weak references to the object (if defined)\n",
      "\n"
     ]
    }
   ],
   "source": [
    "help(obj)"
   ]
  },
  {
   "cell_type": "markdown",
   "id": "8db7e090-fd49-43a5-b807-b2299c6f0e4e",
   "metadata": {},
   "source": [
    "Attributes & Methods"
   ]
  },
  {
   "cell_type": "code",
   "execution_count": 10,
   "id": "c11fab95-759b-4ead-aba6-838d6a208c65",
   "metadata": {},
   "outputs": [],
   "source": [
    "class Health :\n",
    "    '''This is calss \"Health\" with information and functions related with our health. '''\n",
    "    # __init__ function\n",
    "    def __init__(self, name, age, location):\n",
    "        '''\n",
    "        Initialization of Health class.\n",
    "        '''\n",
    "        self.name = name\n",
    "        self.age = age\n",
    "        self.location = location\n",
    "    # another method to display data\n",
    "    def print_info(self):\n",
    "        print('Individual Health Information :')\n",
    "        print('Name       :', self.name)\n",
    "        print('Age        :', self.age)\n",
    "        print('Location   :', self.location)\n",
    "        "
   ]
  },
  {
   "cell_type": "code",
   "execution_count": 11,
   "id": "fe2611ba-edbe-47e4-87f9-d79bf6826093",
   "metadata": {},
   "outputs": [],
   "source": [
    "objH1 = Health('Mohit Kanani', 30, 'Tokyo')"
   ]
  },
  {
   "cell_type": "code",
   "execution_count": 12,
   "id": "a44b7104-3f9c-4823-aa5c-248881d2d06a",
   "metadata": {},
   "outputs": [
    {
     "name": "stdout",
     "output_type": "stream",
     "text": [
      "Individual Health Information :\n",
      "Name       : Mohit Kanani\n",
      "Age        : 30\n",
      "Location   : Tokyo\n"
     ]
    }
   ],
   "source": [
    "objH1.print_info()"
   ]
  },
  {
   "cell_type": "markdown",
   "id": "be82f4af-8fd0-4fd7-8d0d-40f3e34c2516",
   "metadata": {},
   "source": [
    "Data attributes & class attributes"
   ]
  },
  {
   "cell_type": "code",
   "execution_count": 14,
   "id": "150cddb5-5571-4479-a258-aedc40d505a1",
   "metadata": {},
   "outputs": [],
   "source": [
    "class Health :\n",
    "    '''This is calss \"Health\" with information and functions related with our health. '''\n",
    "    # class attribute\n",
    "    counter = 0\n",
    "    \n",
    "    # __init__ function\n",
    "    def __init__(self, name, age, location):\n",
    "        '''\n",
    "        Initialization of Health class.\n",
    "        '''\n",
    "        self.name = name\n",
    "        self.age = age\n",
    "        self.location = location\n",
    "        Health.counter += 1\n",
    "\n",
    "    # another method to display data\n",
    "    def print_info(self):\n",
    "        print('Individual Health Information :')\n",
    "        print('Name       :', self.name)\n",
    "        print('Age        :', self.age)\n",
    "        print('Location   :', self.location)\n",
    "        print('No. of objects : ', Health.counter)"
   ]
  },
  {
   "cell_type": "code",
   "execution_count": 15,
   "id": "05a7435e-7057-419c-8767-e6766f3459ac",
   "metadata": {},
   "outputs": [],
   "source": [
    "obj_h_1 = Health('Peter Patrick', '10', 'Kenya')"
   ]
  },
  {
   "cell_type": "code",
   "execution_count": 16,
   "id": "07dbcb34-97d4-410a-bbe7-7b8946cec26f",
   "metadata": {},
   "outputs": [
    {
     "name": "stdout",
     "output_type": "stream",
     "text": [
      "Individual Health Information :\n",
      "Name       : Peter Patrick\n",
      "Age        : 10\n",
      "Location   : Kenya\n",
      "No. of objects :  1\n"
     ]
    }
   ],
   "source": [
    "obj_h_1.print_info()"
   ]
  },
  {
   "cell_type": "code",
   "execution_count": 17,
   "id": "a93d8cd5-d3f0-4833-b2b2-7077c65e0d25",
   "metadata": {},
   "outputs": [],
   "source": [
    "obj_h_2 = Health('Peter Patel', '11', 'Austria')"
   ]
  },
  {
   "cell_type": "code",
   "execution_count": 18,
   "id": "a51eed65-c337-4469-abf7-fc43e5930dde",
   "metadata": {},
   "outputs": [
    {
     "name": "stdout",
     "output_type": "stream",
     "text": [
      "Individual Health Information :\n",
      "Name       : Peter Patel\n",
      "Age        : 11\n",
      "Location   : Austria\n",
      "No. of objects :  2\n"
     ]
    }
   ],
   "source": [
    "obj_h_2.print_info()"
   ]
  },
  {
   "cell_type": "markdown",
   "id": "a871a396-dfb9-4945-ab66-3423cde8ee50",
   "metadata": {},
   "source": [
    "Access Data & Class Attributes"
   ]
  },
  {
   "cell_type": "code",
   "execution_count": 19,
   "id": "3e511b51-a851-4c1b-8f9c-abe45cedbe2c",
   "metadata": {},
   "outputs": [
    {
     "data": {
      "text/plain": [
       "('Peter Patrick', '10')"
      ]
     },
     "execution_count": 19,
     "metadata": {},
     "output_type": "execute_result"
    }
   ],
   "source": [
    "obj_h_1.name, obj_h_1.age"
   ]
  },
  {
   "cell_type": "code",
   "execution_count": 20,
   "id": "0d1c18b5-59a3-4545-92c6-8bc6b760baca",
   "metadata": {},
   "outputs": [
    {
     "data": {
      "text/plain": [
       "('Peter Patel', '11')"
      ]
     },
     "execution_count": 20,
     "metadata": {},
     "output_type": "execute_result"
    }
   ],
   "source": [
    "obj_h_2.name, obj_h_2.age"
   ]
  },
  {
   "cell_type": "code",
   "execution_count": 21,
   "id": "5a405263-b8ea-4e24-ae1b-0fb1ce445b60",
   "metadata": {},
   "outputs": [
    {
     "data": {
      "text/plain": [
       "(2, 2)"
      ]
     },
     "execution_count": 21,
     "metadata": {},
     "output_type": "execute_result"
    }
   ],
   "source": [
    "obj_h_1.counter, obj_h_2.counter"
   ]
  },
  {
   "cell_type": "markdown",
   "id": "58d9a292-e0d3-4be6-80d0-67b52a3ff99f",
   "metadata": {},
   "source": [
    "Data Attributes vs Class Attributes"
   ]
  },
  {
   "cell_type": "code",
   "execution_count": 22,
   "id": "4d8b64cc-f368-4fe3-83ab-28e39501a5f4",
   "metadata": {},
   "outputs": [
    {
     "data": {
      "text/plain": [
       "False"
      ]
     },
     "execution_count": 22,
     "metadata": {},
     "output_type": "execute_result"
    }
   ],
   "source": [
    "obj_h_1.name is obj_h_2.name"
   ]
  },
  {
   "cell_type": "code",
   "execution_count": 23,
   "id": "0e446479-a154-4911-bb1a-e8ed97c3ca97",
   "metadata": {},
   "outputs": [
    {
     "data": {
      "text/plain": [
       "True"
      ]
     },
     "execution_count": 23,
     "metadata": {},
     "output_type": "execute_result"
    }
   ],
   "source": [
    "obj_h_1.counter is obj_h_2.counter"
   ]
  },
  {
   "cell_type": "markdown",
   "id": "0f410485-dce3-4504-be73-73087301f094",
   "metadata": {},
   "source": [
    "Access Modifiers"
   ]
  },
  {
   "cell_type": "code",
   "execution_count": 30,
   "id": "ad35ef28-d557-4cdf-903f-c0cf39c2c0b5",
   "metadata": {},
   "outputs": [],
   "source": [
    "class student :\n",
    "    counter = 0\n",
    "    #constructor\n",
    "    def __init__(self, name, father_name, age):\n",
    "        self.name = name\n",
    "        self.father_name = father_name\n",
    "        self.age = age\n",
    "        student.counter +=1\n",
    "        # protected variable\n",
    "        self._roll_no = 'A2022/{}/{:003d}'.format(self.name[:3].upper(), student.counter)\n",
    "        # private variable\n",
    "        self.__file_no = 'A2022/{}/{:003d}'.format(self.name.upper(), student.counter)\n",
    "    def print_info(self):\n",
    "        print('Name          :', self.name)\n",
    "        print(\"Father's Name :\", self.father_name)\n",
    "        print('Age           :', self.age)\n",
    "        print('Roll No.      :', self._roll_no)\n",
    "        print('File No.      :', self.__file_no)"
   ]
  },
  {
   "cell_type": "code",
   "execution_count": 31,
   "id": "53bdfbe7-4c0e-4f5d-9123-5f5717238e6b",
   "metadata": {},
   "outputs": [],
   "source": [
    "obj_student_1 = student('Peter Patrick', 'John Patrick', 10)"
   ]
  },
  {
   "cell_type": "code",
   "execution_count": 32,
   "id": "5d1f2e2e-f9da-48a1-aa1f-a37a6a62426e",
   "metadata": {},
   "outputs": [
    {
     "name": "stdout",
     "output_type": "stream",
     "text": [
      "Name          : Peter Patrick\n",
      "Father's Name : John Patrick\n",
      "Age           : 10\n",
      "Roll No.      : A2022/PET/001\n",
      "File No.      : A2022/PETER PATRICK/001\n"
     ]
    }
   ],
   "source": [
    "obj_student_1.print_info()"
   ]
  },
  {
   "cell_type": "code",
   "execution_count": 33,
   "id": "0dcf480d-fe9d-41d7-a616-72f5ac675313",
   "metadata": {},
   "outputs": [],
   "source": [
    "class science(student):\n",
    "    def display(self):\n",
    "        print('Name          :', self.name)\n",
    "        print(\"Father's Name :\", self.father_name)\n",
    "        print('Age           :', self.age)\n",
    "        print('Roll No.      :', self._roll_no)\n",
    "        print('File No.      :', self.__file_no)\n",
    "    "
   ]
  },
  {
   "cell_type": "code",
   "execution_count": 34,
   "id": "e3525100-7c59-4412-b1df-6c6f3f94ad06",
   "metadata": {},
   "outputs": [],
   "source": [
    "obj_science_student = science('Peter Patrick', 'John Patrick', 10)"
   ]
  },
  {
   "cell_type": "code",
   "execution_count": 35,
   "id": "2f7b4a8f-74bc-4394-a3b0-7282e95c4b93",
   "metadata": {},
   "outputs": [
    {
     "name": "stdout",
     "output_type": "stream",
     "text": [
      "Name          : Peter Patrick\n",
      "Father's Name : John Patrick\n",
      "Age           : 10\n",
      "Roll No.      : A2022/PET/002\n",
      "File No.      : A2022/PETER PATRICK/002\n"
     ]
    }
   ],
   "source": [
    "obj_science_student.print_info()"
   ]
  },
  {
   "cell_type": "code",
   "execution_count": 36,
   "id": "d9770bd1-91ac-4b7d-8495-a0eed4d7e29c",
   "metadata": {},
   "outputs": [
    {
     "name": "stdout",
     "output_type": "stream",
     "text": [
      "Name          : Peter Patrick\n",
      "Father's Name : John Patrick\n",
      "Age           : 10\n",
      "Roll No.      : A2022/PET/002\n"
     ]
    },
    {
     "ename": "AttributeError",
     "evalue": "'science' object has no attribute '_science__file_no'",
     "output_type": "error",
     "traceback": [
      "\u001b[0;31m---------------------------------------------------------------------------\u001b[0m",
      "\u001b[0;31mAttributeError\u001b[0m                            Traceback (most recent call last)",
      "Cell \u001b[0;32mIn[36], line 1\u001b[0m\n\u001b[0;32m----> 1\u001b[0m \u001b[43mobj_science_student\u001b[49m\u001b[38;5;241;43m.\u001b[39;49m\u001b[43mdisplay\u001b[49m\u001b[43m(\u001b[49m\u001b[43m)\u001b[49m\n",
      "Cell \u001b[0;32mIn[33], line 7\u001b[0m, in \u001b[0;36mscience.display\u001b[0;34m(self)\u001b[0m\n\u001b[1;32m      5\u001b[0m \u001b[38;5;28mprint\u001b[39m(\u001b[38;5;124m'\u001b[39m\u001b[38;5;124mAge           :\u001b[39m\u001b[38;5;124m'\u001b[39m, \u001b[38;5;28mself\u001b[39m\u001b[38;5;241m.\u001b[39mage)\n\u001b[1;32m      6\u001b[0m \u001b[38;5;28mprint\u001b[39m(\u001b[38;5;124m'\u001b[39m\u001b[38;5;124mRoll No.      :\u001b[39m\u001b[38;5;124m'\u001b[39m, \u001b[38;5;28mself\u001b[39m\u001b[38;5;241m.\u001b[39m_roll_no)\n\u001b[0;32m----> 7\u001b[0m \u001b[38;5;28mprint\u001b[39m(\u001b[38;5;124m'\u001b[39m\u001b[38;5;124mFile No.      :\u001b[39m\u001b[38;5;124m'\u001b[39m, \u001b[38;5;28;43mself\u001b[39;49m\u001b[38;5;241;43m.\u001b[39;49m\u001b[43m__file_no\u001b[49m)\n",
      "\u001b[0;31mAttributeError\u001b[0m: 'science' object has no attribute '_science__file_no'"
     ]
    }
   ],
   "source": [
    "obj_science_student.display()"
   ]
  },
  {
   "cell_type": "markdown",
   "id": "cb122094-828b-45ef-9d89-34c5481e1e0f",
   "metadata": {},
   "source": [
    "Inheritance"
   ]
  },
  {
   "cell_type": "code",
   "execution_count": 38,
   "id": "3f9578fb-6b2d-4d42-8f19-e543721425fd",
   "metadata": {},
   "outputs": [],
   "source": [
    "class parent :\n",
    "    def __init__(self):\n",
    "        print('Welcome to Parent class')\n",
    "    def parent_function(self):\n",
    "        print('This is the parent function')"
   ]
  },
  {
   "cell_type": "code",
   "execution_count": 39,
   "id": "6db1f82d-6e55-42ad-8db1-c96f189f10fe",
   "metadata": {},
   "outputs": [],
   "source": [
    "class child(parent):\n",
    "    pass\n"
   ]
  },
  {
   "cell_type": "code",
   "execution_count": 40,
   "id": "1f670fd5-e4bd-44a2-9c1a-c5c0bd6f516e",
   "metadata": {},
   "outputs": [
    {
     "name": "stdout",
     "output_type": "stream",
     "text": [
      "Welcome to Parent class\n"
     ]
    }
   ],
   "source": [
    "obj_child = child()"
   ]
  },
  {
   "cell_type": "code",
   "execution_count": 41,
   "id": "49c0edf0-ca3a-4a26-9509-9fbede4eb675",
   "metadata": {},
   "outputs": [
    {
     "name": "stdout",
     "output_type": "stream",
     "text": [
      "This is the parent function\n"
     ]
    }
   ],
   "source": [
    "obj_child.parent_function()"
   ]
  },
  {
   "cell_type": "markdown",
   "id": "3af0cf23-3fa9-4ee2-a680-4420f01fa2f2",
   "metadata": {},
   "source": [
    "Type of Inheritance"
   ]
  },
  {
   "cell_type": "markdown",
   "id": "f613bc1f-4662-4dab-9cf1-ec66f59a0dd3",
   "metadata": {},
   "source": [
    "Single Inheritance"
   ]
  },
  {
   "cell_type": "code",
   "execution_count": 43,
   "id": "8bd0c2b5-fd03-46a9-a7fb-bd290afa87fe",
   "metadata": {},
   "outputs": [],
   "source": [
    "# base class"
   ]
  },
  {
   "cell_type": "code",
   "execution_count": 54,
   "id": "10936ebd-da59-40b2-a7c6-07ba8caaf692",
   "metadata": {},
   "outputs": [],
   "source": [
    "class information:\n",
    "    def __init__(self,name, age, gender):\n",
    "        self.name = name\n",
    "        self.age = age\n",
    "        self.gender = gender\n",
    "\n",
    "    def print_info(self):\n",
    "        print('Name   : ', self.name)\n",
    "        print('Age    : ', self.age)\n",
    "        print('Gender : ', self.gender)"
   ]
  },
  {
   "cell_type": "code",
   "execution_count": 63,
   "id": "a4210eee-9b6f-4c36-bda6-3dcf919f9a3b",
   "metadata": {},
   "outputs": [],
   "source": [
    "# derived calss\n",
    "class learners(information):\n",
    "    def set_learner_data(self, exp = None, qual = None):\n",
    "        self.qual = qual\n",
    "        self.exp = exp\n",
    "\n",
    "    def display(self):\n",
    "        self.print_info()\n",
    "        print('Qual   : ', self.qual)\n",
    "        print('Exp    : ', self.exp)"
   ]
  },
  {
   "cell_type": "code",
   "execution_count": 64,
   "id": "f6ae960a-f297-4023-bf47-070860c24e0a",
   "metadata": {},
   "outputs": [],
   "source": [
    "obj_learner_1 = learners('Peter Patrick', 23, 'F')"
   ]
  },
  {
   "cell_type": "code",
   "execution_count": 65,
   "id": "0a1936ef-d090-42cb-944d-9a9088afa00e",
   "metadata": {},
   "outputs": [
    {
     "name": "stdout",
     "output_type": "stream",
     "text": [
      "Name   :  Peter Patrick\n",
      "Age    :  23\n",
      "Gender :  F\n"
     ]
    }
   ],
   "source": [
    "obj_learner_1.print_info()"
   ]
  },
  {
   "cell_type": "code",
   "execution_count": 66,
   "id": "2ead8c40-66fa-48cc-a311-780c23bb5228",
   "metadata": {},
   "outputs": [],
   "source": [
    "obj_learner_1.set_learner_data(6, 'Post Graduate')"
   ]
  },
  {
   "cell_type": "code",
   "execution_count": 67,
   "id": "ae5e5e2e-abe0-4b87-82a2-6b6d751e3b34",
   "metadata": {},
   "outputs": [
    {
     "name": "stdout",
     "output_type": "stream",
     "text": [
      "Name   :  Peter Patrick\n",
      "Age    :  23\n",
      "Gender :  F\n",
      "Qual   :  Post Graduate\n",
      "Exp    :  6\n"
     ]
    }
   ],
   "source": [
    "obj_learner_1.display()"
   ]
  },
  {
   "cell_type": "markdown",
   "id": "b0820553-204f-4071-92fa-31a3a6befa5f",
   "metadata": {},
   "source": [
    "Multilevel Inheritance"
   ]
  },
  {
   "cell_type": "code",
   "execution_count": 69,
   "id": "aba77409-e98b-4b96-8bdc-faee84ba0cd4",
   "metadata": {},
   "outputs": [],
   "source": [
    "# base calss\n",
    "class information:\n",
    "    def __init__(self,name, age, gender):\n",
    "        self.name = name\n",
    "        self.age = age\n",
    "        self.gender = gender\n",
    "\n",
    "    def print_info(self):\n",
    "        print('Name   : ', self.name)\n",
    "        print('Age    : ', self.age)\n",
    "        print('Gender : ', self.gender)"
   ]
  },
  {
   "cell_type": "code",
   "execution_count": 70,
   "id": "06769e61-8e47-418c-a7e5-75add6f5a07e",
   "metadata": {},
   "outputs": [],
   "source": [
    "# derived calss\n",
    "class learners(information):\n",
    "    def set_learner_data(self, exp = None, qual = None):\n",
    "        self.qual = qual\n",
    "        self.exp = exp\n",
    "\n",
    "    def display(self):\n",
    "        self.print_info()\n",
    "        print('Qual   : ', self.qual)\n",
    "        print('Exp    : ', self.exp)"
   ]
  },
  {
   "cell_type": "code",
   "execution_count": 71,
   "id": "b3ba9ef2-8f29-4b14-b999-d84885b12475",
   "metadata": {},
   "outputs": [],
   "source": [
    "class profile(learners):\n",
    "    pass"
   ]
  },
  {
   "cell_type": "code",
   "execution_count": 72,
   "id": "f4b0b533-a3b2-4576-ab1d-2962a143bc69",
   "metadata": {},
   "outputs": [],
   "source": [
    "obj_profile_1 = profile('John Cina', 65, 'M')"
   ]
  },
  {
   "cell_type": "code",
   "execution_count": 73,
   "id": "5000052c-29ea-4379-8793-3a27a5e365de",
   "metadata": {},
   "outputs": [
    {
     "name": "stdout",
     "output_type": "stream",
     "text": [
      "Name   :  John Cina\n",
      "Age    :  65\n",
      "Gender :  M\n"
     ]
    }
   ],
   "source": [
    "obj_profile_1.print_info()"
   ]
  },
  {
   "cell_type": "code",
   "execution_count": 74,
   "id": "48b15196-0590-4b89-94b1-a06d2b02ae6b",
   "metadata": {},
   "outputs": [],
   "source": [
    "obj_profile_1.set_learner_data(20, 'Graduate')"
   ]
  },
  {
   "cell_type": "code",
   "execution_count": 75,
   "id": "44534115-43c7-4965-8982-d8e1c9dbee27",
   "metadata": {},
   "outputs": [
    {
     "name": "stdout",
     "output_type": "stream",
     "text": [
      "Name   :  John Cina\n",
      "Age    :  65\n",
      "Gender :  M\n",
      "Qual   :  Graduate\n",
      "Exp    :  20\n"
     ]
    }
   ],
   "source": [
    "obj_profile_1.display()"
   ]
  },
  {
   "cell_type": "markdown",
   "id": "d704c4e2-3085-48f2-bd1c-dc30e3b2423b",
   "metadata": {},
   "source": [
    "Heirarchical Inheritance"
   ]
  },
  {
   "cell_type": "code",
   "execution_count": 76,
   "id": "9879a045-29e3-4663-a488-df5114577539",
   "metadata": {},
   "outputs": [],
   "source": [
    "# base calss\n",
    "class information:\n",
    "    def __init__(self,name, age, gender):\n",
    "        self.name = name\n",
    "        self.age = age\n",
    "        self.gender = gender\n",
    "\n",
    "    def print_info(self):\n",
    "        print('Name   : ', self.name)\n",
    "        print('Age    : ', self.age)\n",
    "        print('Gender : ', self.gender)"
   ]
  },
  {
   "cell_type": "code",
   "execution_count": 77,
   "id": "0c891213-c0ab-4b8a-8253-94bbb6dae244",
   "metadata": {},
   "outputs": [],
   "source": [
    "# derived calss\n",
    "class learners(information):\n",
    "    def set_learner_data(self, exp = None, qual = None):\n",
    "        self.qual = qual\n",
    "        self.exp = exp\n",
    "\n",
    "    def display(self):\n",
    "        self.print_info()\n",
    "        print('Qual   : ', self.qual)\n",
    "        print('Exp    : ', self.exp)"
   ]
  },
  {
   "cell_type": "code",
   "execution_count": 78,
   "id": "ccf909a0-5b87-4397-9f27-e2f6613f08f9",
   "metadata": {},
   "outputs": [],
   "source": [
    "# derived class 2\n",
    "class trainer(information):\n",
    "    def set_trainer_data(self, exp, charges):\n",
    "        self.exp = exp\n",
    "        self.charges = charges\n",
    "\n",
    "    def display_trainer(self):\n",
    "        self.print_info()\n",
    "        print('Experience       : ', self.exp)\n",
    "        print('Hourly Charges   : ', self.charges)\n",
    "    "
   ]
  },
  {
   "cell_type": "code",
   "execution_count": 81,
   "id": "82c282ce-c850-4361-90b2-59164d474d80",
   "metadata": {},
   "outputs": [],
   "source": [
    "obj_learner = learners('John Patrick', 23, 'M')\n",
    "obj_learner.set_learner_data(5, 'Graduate')"
   ]
  },
  {
   "cell_type": "code",
   "execution_count": 82,
   "id": "46634834-241b-419a-83dd-e5e96b6c334c",
   "metadata": {},
   "outputs": [
    {
     "name": "stdout",
     "output_type": "stream",
     "text": [
      "Name   :  John Patrick\n",
      "Age    :  23\n",
      "Gender :  M\n"
     ]
    }
   ],
   "source": [
    "obj_learner.print_info()"
   ]
  },
  {
   "cell_type": "code",
   "execution_count": 83,
   "id": "0b7a08ac-50b0-4885-8eee-43d2a97b3960",
   "metadata": {},
   "outputs": [
    {
     "name": "stdout",
     "output_type": "stream",
     "text": [
      "Name   :  John Patrick\n",
      "Age    :  23\n",
      "Gender :  M\n",
      "Qual   :  Graduate\n",
      "Exp    :  5\n"
     ]
    }
   ],
   "source": [
    "obj_learner.display()"
   ]
  },
  {
   "cell_type": "code",
   "execution_count": 84,
   "id": "f948ae03-9081-4e7d-bea1-0f3b7071479d",
   "metadata": {},
   "outputs": [],
   "source": [
    "obj_trainer = trainer('John Dave', 43, 'F')\n",
    "obj_trainer.set_trainer_data(20, 5000)"
   ]
  },
  {
   "cell_type": "code",
   "execution_count": 85,
   "id": "8e8ecb6c-5690-4abe-b29b-12f10e490f81",
   "metadata": {},
   "outputs": [
    {
     "name": "stdout",
     "output_type": "stream",
     "text": [
      "Name   :  John Dave\n",
      "Age    :  43\n",
      "Gender :  F\n"
     ]
    }
   ],
   "source": [
    "obj_trainer.print_info()"
   ]
  },
  {
   "cell_type": "code",
   "execution_count": 87,
   "id": "388e8c49-8185-4474-933e-40ec07db0a10",
   "metadata": {},
   "outputs": [
    {
     "name": "stdout",
     "output_type": "stream",
     "text": [
      "Name   :  John Dave\n",
      "Age    :  43\n",
      "Gender :  F\n",
      "Experience       :  20\n",
      "Hourly Charges   :  5000\n"
     ]
    }
   ],
   "source": [
    "obj_trainer.display_trainer()"
   ]
  },
  {
   "cell_type": "markdown",
   "id": "8d8aeebf-475f-4be0-8a28-436a5eb6d528",
   "metadata": {},
   "source": [
    "Multiple Inheritance"
   ]
  },
  {
   "cell_type": "code",
   "execution_count": 88,
   "id": "91ef4cc4-b81f-4fe3-9bfe-e9cb174f0f20",
   "metadata": {},
   "outputs": [],
   "source": [
    "# base calss 1\n",
    "class information:\n",
    "    def __init__(self,name, age, gender):\n",
    "        self.name = name\n",
    "        self.age = age\n",
    "        self.gender = gender\n",
    "\n",
    "    def print_info(self):\n",
    "        print('Name   : ', self.name)\n",
    "        print('Age    : ', self.age)\n",
    "        print('Gender : ', self.gender)"
   ]
  },
  {
   "cell_type": "code",
   "execution_count": 89,
   "id": "311db7b7-fe7b-44ce-bc88-5f07bc9cd877",
   "metadata": {},
   "outputs": [],
   "source": [
    "# base class 2\n",
    "class course_inf:\n",
    "    def __init__(self):\n",
    "        self.inf = {'Weekend' : {'Course One' : 34,\n",
    "                                'Course Two' : 9.5,\n",
    "                                'Course Three' : 11,\n",
    "                                'Course Four' : 12},\n",
    "                   'Weekday' : {'Course Five' : 45,\n",
    "                                'Course Six' : 13.5,\n",
    "                                'Course Seven' : 54,\n",
    "                                'Course Eight' : 23}}"
   ]
  },
  {
   "cell_type": "code",
   "execution_count": 92,
   "id": "12fc0dbc-fd0c-464a-a6b3-d7f9e4528ba1",
   "metadata": {},
   "outputs": [],
   "source": [
    "# derived class\n",
    "class learners(information, course_inf):\n",
    "    def __init__(self, name, age, gender, course, pref):\n",
    "        information.__init__(self, name, age, gender)\n",
    "        course_inf.__init__(self)\n",
    "        self.course = course\n",
    "        self.pref = pref\n",
    "\n",
    "    def display(self):\n",
    "        information.print_info(self)\n",
    "        print('Course : ', self.course)\n",
    "        print('Pref   : ', self.pref)\n",
    "        weeks = self.inf[self.pref][self.course]\n",
    "        print('# of Weeks : ', weeks)"
   ]
  },
  {
   "cell_type": "code",
   "execution_count": 95,
   "id": "6d1705d9-b9ff-4edb-917f-fecbb704a584",
   "metadata": {},
   "outputs": [],
   "source": [
    "obj_learner = learners('Peter Patrick', 28, 'M', 'Course Five', 'Weekday')"
   ]
  },
  {
   "cell_type": "code",
   "execution_count": 96,
   "id": "7b34a5ec-887a-4ec6-925b-f0d95b35c7ef",
   "metadata": {},
   "outputs": [
    {
     "name": "stdout",
     "output_type": "stream",
     "text": [
      "Name   :  Peter Patrick\n",
      "Age    :  28\n",
      "Gender :  M\n",
      "Course :  Course Five\n",
      "Pref   :  Weekday\n",
      "# of Weeks :  45\n"
     ]
    }
   ],
   "source": [
    "obj_learner.display()"
   ]
  },
  {
   "cell_type": "code",
   "execution_count": 98,
   "id": "2bbaa719-2bf0-4415-830a-8f8f78205a64",
   "metadata": {},
   "outputs": [
    {
     "data": {
      "text/plain": [
       "{'Weekend': {'Course One': 34,\n",
       "  'Course Two': 9,\n",
       "  'Course Three': 11,\n",
       "  'Course Four': 12},\n",
       " 'Weekday': {'Course Five': 45,\n",
       "  'Course Six': 13,\n",
       "  'Course Seven': 54,\n",
       "  'Course Eight': 23}}"
      ]
     },
     "execution_count": 98,
     "metadata": {},
     "output_type": "execute_result"
    }
   ],
   "source": [
    "obj_learner.inf"
   ]
  },
  {
   "cell_type": "markdown",
   "id": "9349c7a6-3f6d-4f4c-93a7-bac3a3561c09",
   "metadata": {},
   "source": [
    "Polymorphism"
   ]
  },
  {
   "cell_type": "markdown",
   "id": "76b62bf4-8d52-475e-b71a-db1f2355f74a",
   "metadata": {},
   "source": [
    "Method Overloading (not supported in python however two different class can have same method)"
   ]
  },
  {
   "cell_type": "code",
   "execution_count": 100,
   "id": "9625326b-5a6a-453a-8484-393d2b1dfd74",
   "metadata": {},
   "outputs": [],
   "source": [
    "class information:\n",
    "    def __init__(self,name, age, gender):\n",
    "        self.name = name\n",
    "        self.age = age\n",
    "        self.gender = gender\n",
    "\n",
    "    def print_info(self):\n",
    "        print('Name   : ', self.name)\n",
    "        print('Age    : ', self.age)\n",
    "        print('Gender : ', self.gender)"
   ]
  },
  {
   "cell_type": "code",
   "execution_count": 112,
   "id": "b87ee874-98f4-4147-89b0-d3d136328aa0",
   "metadata": {},
   "outputs": [],
   "source": [
    "class learners:\n",
    "    def __init__(self, name, age, gender, exp, qual):\n",
    "        self.name = name\n",
    "        self.age = age\n",
    "        self.gender = gender\n",
    "        self.qual = qual\n",
    "        self.exp = exp\n",
    "\n",
    "    def print_info(self):\n",
    "        print('Name\\t: ', self.name)\n",
    "        print('Age\\t: ', self.age)\n",
    "        print('Gender\\t: ', self.gender)\n",
    "        print('Qual   : ', self.qual)\n",
    "        print('Exp    : ', self.exp)"
   ]
  },
  {
   "cell_type": "code",
   "execution_count": 115,
   "id": "6addb782-39c7-4a56-80cc-32157b1c2f4b",
   "metadata": {},
   "outputs": [],
   "source": [
    "obj_info = information('Suraj Bajatiya', 65, 'M')\n",
    "obj_learner = learners('Suraj Mehta', 32, 'M', 8, 'Graduate')"
   ]
  },
  {
   "cell_type": "code",
   "execution_count": 118,
   "id": "9d5e5512-1fb9-46b0-97ce-e181d771f77d",
   "metadata": {},
   "outputs": [
    {
     "name": "stdout",
     "output_type": "stream",
     "text": [
      "Name   :  Suraj Bajatiya\n",
      "Age    :  65\n",
      "Gender :  M\n"
     ]
    }
   ],
   "source": [
    "obj_info.print_info()"
   ]
  },
  {
   "cell_type": "code",
   "execution_count": 117,
   "id": "781822c5-9112-4b35-8966-bc8692da157c",
   "metadata": {},
   "outputs": [
    {
     "name": "stdout",
     "output_type": "stream",
     "text": [
      "Name\t:  Suraj Mehta\n",
      "Age\t:  32\n",
      "Gender\t:  M\n",
      "Qual   :  Graduate\n",
      "Exp    :  8\n"
     ]
    }
   ],
   "source": [
    "obj_learner.print_info()"
   ]
  },
  {
   "cell_type": "markdown",
   "id": "16fd8bdf-8a10-4b74-ab29-c55097da6bb9",
   "metadata": {},
   "source": [
    "Operator Overloading"
   ]
  },
  {
   "cell_type": "code",
   "execution_count": 120,
   "id": "43a116c3-c7d4-49e6-bd5e-7cbdd31b3f2e",
   "metadata": {},
   "outputs": [
    {
     "data": {
      "text/plain": [
       "17"
      ]
     },
     "execution_count": 120,
     "metadata": {},
     "output_type": "execute_result"
    }
   ],
   "source": [
    "x = 8; y= 9\n",
    "x + y"
   ]
  },
  {
   "cell_type": "code",
   "execution_count": 122,
   "id": "79446ef3-e98a-46a6-9c70-a2760e828c96",
   "metadata": {},
   "outputs": [
    {
     "data": {
      "text/plain": [
       "'FirstName LastName'"
      ]
     },
     "execution_count": 122,
     "metadata": {},
     "output_type": "execute_result"
    }
   ],
   "source": [
    "x = 'FirstName'\n",
    "y = 'LastName'\n",
    "x + ' ' + y"
   ]
  },
  {
   "cell_type": "markdown",
   "id": "73691062-c868-4727-9113-148cbda3dba7",
   "metadata": {},
   "source": [
    "Method Overriding"
   ]
  },
  {
   "cell_type": "code",
   "execution_count": 123,
   "id": "d596576c-2f27-41f7-8451-1cac23a53a4a",
   "metadata": {},
   "outputs": [],
   "source": [
    "class information:\n",
    "    def __init__(self,name, age, gender):\n",
    "        self.name = name\n",
    "        self.age = age\n",
    "        self.gender = gender\n",
    "\n",
    "    def print_info(self):\n",
    "        print('Name   : ', self.name)\n",
    "        print('Age    : ', self.age)\n",
    "        print('Gender : ', self.gender)"
   ]
  },
  {
   "cell_type": "code",
   "execution_count": 124,
   "id": "132c847f-8663-4b2c-afa2-16091f69e86d",
   "metadata": {},
   "outputs": [],
   "source": [
    "class learners(information):\n",
    "    def __init__(self, name, age, gender, exp, qual):\n",
    "        information.__init__(self, name, age, gender)\n",
    "        self.qual = qual\n",
    "        self.exp = exp\n",
    "\n",
    "    def print_info(self):\n",
    "        ''' print_info function of derived class overrides the print_info function of parent class'''\n",
    "        print('Qual   : ', self.qual)\n",
    "        print('Exp    : ', self.exp)"
   ]
  },
  {
   "cell_type": "code",
   "execution_count": 126,
   "id": "13463524-2888-4dc6-8275-643d089908bc",
   "metadata": {},
   "outputs": [],
   "source": [
    "obj_learner = learners('Suraj Mehta', 32, 'M', 8, 'Graduate')"
   ]
  },
  {
   "cell_type": "code",
   "execution_count": 129,
   "id": "bd706c99-5430-4bc9-8311-0ec4e7d28d0a",
   "metadata": {},
   "outputs": [
    {
     "name": "stdout",
     "output_type": "stream",
     "text": [
      "Qual   :  Graduate\n",
      "Exp    :  8\n"
     ]
    }
   ],
   "source": [
    "obj_learner.print_info()"
   ]
  },
  {
   "cell_type": "code",
   "execution_count": 130,
   "id": "85de4aa6-c875-43cf-b974-7081b9f77482",
   "metadata": {},
   "outputs": [],
   "source": [
    "class learners(information):\n",
    "    def __init__(self, name, age, gender, exp, qual):\n",
    "        information.__init__(self, name, age, gender)\n",
    "        self.qual = qual\n",
    "        self.exp = exp\n",
    "\n",
    "    def print_info(self):\n",
    "        ''' \n",
    "        print_info function of derived class overrides the print_info function of parent class.\n",
    "        To use the print info function of parent class, the function need to be invoked explicity.\n",
    "        '''\n",
    "        information.print_info(self)\n",
    "        print('Qual   : ', self.qual)\n",
    "        print('Exp    : ', self.exp)"
   ]
  },
  {
   "cell_type": "code",
   "execution_count": 131,
   "id": "9cf4ea01-8010-494b-838e-e2ff3e5abb5d",
   "metadata": {},
   "outputs": [],
   "source": [
    "obj_learner = learners('Suraj Mehta', 32, 'M', 8, 'Graduate')"
   ]
  },
  {
   "cell_type": "code",
   "execution_count": 132,
   "id": "be551567-26e4-4ca7-97d5-d321a6a562ec",
   "metadata": {},
   "outputs": [
    {
     "name": "stdout",
     "output_type": "stream",
     "text": [
      "Name   :  Suraj Mehta\n",
      "Age    :  32\n",
      "Gender :  M\n",
      "Qual   :  Graduate\n",
      "Exp    :  8\n"
     ]
    }
   ],
   "source": [
    "obj_learner.print_info()"
   ]
  },
  {
   "cell_type": "markdown",
   "id": "36ef6ee1-2b4e-4b1c-a9ea-41cfac0fba0d",
   "metadata": {},
   "source": [
    "Abstraction"
   ]
  },
  {
   "cell_type": "code",
   "execution_count": 133,
   "id": "7a6fcf94-eefa-4c57-a0a7-260f1f5d486d",
   "metadata": {},
   "outputs": [],
   "source": [
    "from abc import abstractmethod, ABC"
   ]
  },
  {
   "cell_type": "code",
   "execution_count": 135,
   "id": "81ab7261-cf6a-4d0c-9038-270aa2b51c50",
   "metadata": {},
   "outputs": [],
   "source": [
    "class beverage(ABC):\n",
    "    @abstractmethod\n",
    "    def ingredients(self):\n",
    "        print('base')\n",
    "    def taste(self):\n",
    "        pass"
   ]
  },
  {
   "cell_type": "code",
   "execution_count": 136,
   "id": "6a9441d2-223b-49d8-8de5-b2c117b4ee83",
   "metadata": {},
   "outputs": [
    {
     "ename": "TypeError",
     "evalue": "Can't instantiate abstract class beverage with abstract methods ingredients",
     "output_type": "error",
     "traceback": [
      "\u001b[0;31m---------------------------------------------------------------------------\u001b[0m",
      "\u001b[0;31mTypeError\u001b[0m                                 Traceback (most recent call last)",
      "Cell \u001b[0;32mIn[136], line 1\u001b[0m\n\u001b[0;32m----> 1\u001b[0m obj_beverage \u001b[38;5;241m=\u001b[39m \u001b[43mbeverage\u001b[49m\u001b[43m(\u001b[49m\u001b[43m)\u001b[49m\n",
      "\u001b[0;31mTypeError\u001b[0m: Can't instantiate abstract class beverage with abstract methods ingredients"
     ]
    }
   ],
   "source": [
    "obj_beverage = beverage()"
   ]
  },
  {
   "cell_type": "code",
   "execution_count": 140,
   "id": "5639d796-07de-4117-ae4e-eeaf660b6de5",
   "metadata": {},
   "outputs": [],
   "source": [
    "# derived class 1\n",
    "class mango_shake(beverage):\n",
    "    def ingredients(self):\n",
    "        print('Mango, Milk and Sugar')\n",
    "    def taste(self):\n",
    "        print('Yummy!!')"
   ]
  },
  {
   "cell_type": "code",
   "execution_count": 149,
   "id": "5d73a99c-1c84-41f8-bdce-5bbbc4b9c868",
   "metadata": {},
   "outputs": [],
   "source": [
    "# derived class 1\n",
    "class orange_juice(beverage):\n",
    "    def ingredients(self):\n",
    "        print('Orange, Water and Sugar')\n",
    "    def taste(self):\n",
    "        print('Sweet!!')"
   ]
  },
  {
   "cell_type": "code",
   "execution_count": 150,
   "id": "146b14f5-fa62-4664-8c03-3c5026165d0b",
   "metadata": {},
   "outputs": [
    {
     "name": "stdout",
     "output_type": "stream",
     "text": [
      "Mango, Milk and Sugar\n",
      "Yummy!!\n"
     ]
    }
   ],
   "source": [
    "obj_mango_shake = mango_shake()\n",
    "obj_mango_shake.ingredients()\n",
    "obj_mango_shake.taste()"
   ]
  },
  {
   "cell_type": "code",
   "execution_count": 151,
   "id": "d4f70a44-efda-452a-94a9-db16d05758c9",
   "metadata": {},
   "outputs": [
    {
     "name": "stdout",
     "output_type": "stream",
     "text": [
      "Orange, Water and Sugar\n",
      "Sweet!!\n"
     ]
    }
   ],
   "source": [
    "obj_orange_juice = orange_juice()\n",
    "obj_orange_juice.ingredients()\n",
    "obj_orange_juice.taste()"
   ]
  },
  {
   "cell_type": "code",
   "execution_count": null,
   "id": "470bed65-0982-4475-a443-550f787fb5d2",
   "metadata": {},
   "outputs": [],
   "source": []
  }
 ],
 "metadata": {
  "kernelspec": {
   "display_name": "Python 3 (ipykernel)",
   "language": "python",
   "name": "python3"
  },
  "language_info": {
   "codemirror_mode": {
    "name": "ipython",
    "version": 3
   },
   "file_extension": ".py",
   "mimetype": "text/x-python",
   "name": "python",
   "nbconvert_exporter": "python",
   "pygments_lexer": "ipython3",
   "version": "3.8.18"
  }
 },
 "nbformat": 4,
 "nbformat_minor": 5
}
