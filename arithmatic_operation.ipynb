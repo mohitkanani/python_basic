{
 "cells": [
  {
   "cell_type": "code",
   "execution_count": 2,
   "id": "ec54c9d3-df67-47f8-824e-a6fb3092e03c",
   "metadata": {},
   "outputs": [],
   "source": [
    "x = 50\n",
    "y = 4"
   ]
  },
  {
   "cell_type": "code",
   "execution_count": 3,
   "id": "767d7d7a-7536-46a8-a149-a1195a2b4fec",
   "metadata": {},
   "outputs": [
    {
     "name": "stdout",
     "output_type": "stream",
     "text": [
      "Sum of x & y                              :  54\n",
      "Difference between of x & y               :  46\n",
      "Product of x & y                          :  200\n",
      "Division of x by y                        :  12.5\n",
      "Remainder of x divided by y               :  2\n",
      "Floor Divistion x divided by y            :  12\n",
      "Exponential value for x raised to power y :  6250000\n"
     ]
    }
   ],
   "source": [
    "print('Sum of x & y                              : ', x + y)\n",
    "print('Difference between of x & y               : ', x - y)\n",
    "print('Product of x & y                          : ', x * y)\n",
    "print('Division of x by y                        : ', x / y)\n",
    "print('Remainder of x divided by y               : ', x % y)\n",
    "print('Floor Divistion x divided by y            : ', x // y)\n",
    "print('Exponential value for x raised to power y : ', x ** y)"
   ]
  },
  {
   "cell_type": "code",
   "execution_count": null,
   "id": "7963b54f-87ca-4272-8e3e-3377928ee9f9",
   "metadata": {},
   "outputs": [],
   "source": []
  }
 ],
 "metadata": {
  "kernelspec": {
   "display_name": "Python 3 (ipykernel)",
   "language": "python",
   "name": "python3"
  },
  "language_info": {
   "codemirror_mode": {
    "name": "ipython",
    "version": 3
   },
   "file_extension": ".py",
   "mimetype": "text/x-python",
   "name": "python",
   "nbconvert_exporter": "python",
   "pygments_lexer": "ipython3",
   "version": "3.8.18"
  }
 },
 "nbformat": 4,
 "nbformat_minor": 5
}
