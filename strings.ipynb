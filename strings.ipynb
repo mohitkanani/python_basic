{
 "cells": [
  {
   "cell_type": "code",
   "execution_count": 1,
   "id": "ecb51fb9-4322-4b7d-8547-10864f79337a",
   "metadata": {},
   "outputs": [
    {
     "name": "stdout",
     "output_type": "stream",
     "text": [
      "Hi, Welcome to Pyton world!!\n",
      "Hi, Welcome to Pyton world!!\n"
     ]
    }
   ],
   "source": [
    "message_a = \"Hi, Welcome to Pyton world!!\"\n",
    "message_b = 'Hi, Welcome to Pyton world!!'\n",
    "print(message_a)\n",
    "print(message_b)"
   ]
  },
  {
   "cell_type": "code",
   "execution_count": 3,
   "id": "5c044315-c0ec-4926-b1a1-c116dd2125ab",
   "metadata": {},
   "outputs": [
    {
     "name": "stdout",
     "output_type": "stream",
     "text": [
      "Hi, Welcome to \"Pyton world\"!!\n",
      "Hi, Welcome to 'Pyton world'!!\n"
     ]
    }
   ],
   "source": [
    "message_a = 'Hi, Welcome to \"Pyton world\"!!'\n",
    "message_b = \"Hi, Welcome to 'Pyton world'!!\"\n",
    "print(message_a)\n",
    "print(message_b)"
   ]
  },
  {
   "cell_type": "code",
   "execution_count": null,
   "id": "d0728027-74a9-4cee-be6d-35c9a53ea6ac",
   "metadata": {},
   "outputs": [],
   "source": []
  }
 ],
 "metadata": {
  "kernelspec": {
   "display_name": "Python 3 (ipykernel)",
   "language": "python",
   "name": "python3"
  },
  "language_info": {
   "codemirror_mode": {
    "name": "ipython",
    "version": 3
   },
   "file_extension": ".py",
   "mimetype": "text/x-python",
   "name": "python",
   "nbconvert_exporter": "python",
   "pygments_lexer": "ipython3",
   "version": "3.8.18"
  }
 },
 "nbformat": 4,
 "nbformat_minor": 5
}
