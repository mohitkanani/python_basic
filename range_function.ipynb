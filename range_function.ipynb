{
 "cells": [
  {
   "cell_type": "code",
   "execution_count": null,
   "id": "e4c15456-1558-43a4-a7c0-49f943b047c0",
   "metadata": {},
   "outputs": [],
   "source": [
    "#range(n)\n",
    "#range(start,stop)\n",
    "#range(start,stop,step)"
   ]
  },
  {
   "cell_type": "code",
   "execution_count": null,
   "id": "f7ec39f6-d1f2-47d5-a854-2d6188e3926c",
   "metadata": {},
   "outputs": [],
   "source": [
    "#range(n) function"
   ]
  },
  {
   "cell_type": "code",
   "execution_count": 1,
   "id": "4dab29d7-00f7-4023-ba2d-b85485ad2d86",
   "metadata": {},
   "outputs": [
    {
     "name": "stdout",
     "output_type": "stream",
     "text": [
      "[0, 1, 2, 3, 4, 5, 6, 7, 8, 9]\n"
     ]
    }
   ],
   "source": [
    "#range(n)\n",
    "print(list(range(10)))"
   ]
  },
  {
   "cell_type": "code",
   "execution_count": 2,
   "id": "5df4d275-ce1c-4ec0-910c-6c2beb425539",
   "metadata": {},
   "outputs": [
    {
     "name": "stdout",
     "output_type": "stream",
     "text": [
      "[10, 11, 12, 13, 14]\n"
     ]
    }
   ],
   "source": [
    "#range(start,stop)\n",
    "print(list(range(10,15)))"
   ]
  },
  {
   "cell_type": "code",
   "execution_count": 4,
   "id": "b80bf589-feff-4c42-9400-4d3bfa74ec0b",
   "metadata": {},
   "outputs": [
    {
     "name": "stdout",
     "output_type": "stream",
     "text": [
      "[10, 12, 14, 16, 18]\n"
     ]
    }
   ],
   "source": [
    "#range(start,stop,step)\n",
    "print(list(range(10,20,2)))"
   ]
  },
  {
   "cell_type": "code",
   "execution_count": 5,
   "id": "3e2a5f87-6400-49e5-b9f5-f0499fa4ba9a",
   "metadata": {},
   "outputs": [
    {
     "name": "stdout",
     "output_type": "stream",
     "text": [
      "range(0, 10)\n"
     ]
    }
   ],
   "source": [
    "obj = range(10)\n",
    "print(obj)"
   ]
  },
  {
   "cell_type": "code",
   "execution_count": 6,
   "id": "cf55d710-420b-45da-af99-dc3e897983e2",
   "metadata": {},
   "outputs": [
    {
     "name": "stdout",
     "output_type": "stream",
     "text": [
      "[0, 1, 2, 3, 4, 5, 6, 7, 8, 9]\n"
     ]
    }
   ],
   "source": [
    "print(list(obj))"
   ]
  },
  {
   "cell_type": "code",
   "execution_count": 7,
   "id": "ec22bdbf-3b36-44d4-845d-ef20bb508038",
   "metadata": {},
   "outputs": [
    {
     "name": "stdout",
     "output_type": "stream",
     "text": [
      "[10, 11, 12, 13, 14]\n"
     ]
    }
   ],
   "source": [
    "obj = range(10,15)\n",
    "print(list(obj))"
   ]
  },
  {
   "cell_type": "code",
   "execution_count": 8,
   "id": "6599168a-99f8-4c14-b7ea-748b1e5340a3",
   "metadata": {},
   "outputs": [
    {
     "name": "stdout",
     "output_type": "stream",
     "text": [
      "[1, 4, 7, 10, 13, 16, 19, 22, 25, 28]\n"
     ]
    }
   ],
   "source": [
    "obj = range(1,30,3)\n",
    "print(list(obj))"
   ]
  },
  {
   "cell_type": "code",
   "execution_count": 9,
   "id": "b0a1f6c9-3a2b-4399-a946-97406c6a0e5f",
   "metadata": {},
   "outputs": [
    {
     "name": "stdout",
     "output_type": "stream",
     "text": [
      "[1, 3, 5, 7, 9, 11, 13, 15, 17, 19]\n"
     ]
    }
   ],
   "source": [
    "obj = range(1,20,2)\n",
    "print(list(obj))"
   ]
  },
  {
   "cell_type": "code",
   "execution_count": 10,
   "id": "235c90c8-ad7c-4578-a8a9-2292a2d32e79",
   "metadata": {},
   "outputs": [
    {
     "name": "stdout",
     "output_type": "stream",
     "text": [
      "[20, 18, 16, 14, 12, 10, 8, 6, 4, 2]\n"
     ]
    }
   ],
   "source": [
    "obj = range(20,1,-2)\n",
    "print(list(obj))"
   ]
  },
  {
   "cell_type": "code",
   "execution_count": null,
   "id": "c003bcc0-5f99-459d-9432-cf282928f45c",
   "metadata": {},
   "outputs": [],
   "source": []
  }
 ],
 "metadata": {
  "kernelspec": {
   "display_name": "Python 3 (ipykernel)",
   "language": "python",
   "name": "python3"
  },
  "language_info": {
   "codemirror_mode": {
    "name": "ipython",
    "version": 3
   },
   "file_extension": ".py",
   "mimetype": "text/x-python",
   "name": "python",
   "nbconvert_exporter": "python",
   "pygments_lexer": "ipython3",
   "version": "3.8.18"
  }
 },
 "nbformat": 4,
 "nbformat_minor": 5
}
