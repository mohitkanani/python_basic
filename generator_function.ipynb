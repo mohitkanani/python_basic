{
 "cells": [
  {
   "cell_type": "code",
   "execution_count": 6,
   "id": "4c2efc2f-8ef0-4ff5-b11c-47e64647178c",
   "metadata": {},
   "outputs": [],
   "source": [
    "def myGenerator():\n",
    "    n = 1\n",
    "    print('First Iteration')\n",
    "    yield 'Number 1 : n = ' + str(n)\n",
    "    \n",
    "    n += 2\n",
    "    print('Second Iteration')\n",
    "    yield 'Number 2 : n = ' + str(n)\n",
    "    \n",
    "    n += 3\n",
    "    print('Third Iteration')\n",
    "    yield 'Number 3 : n = ' + str(n)"
   ]
  },
  {
   "cell_type": "code",
   "execution_count": 7,
   "id": "a5ceebf8-73c2-4686-b273-9139fde753b7",
   "metadata": {},
   "outputs": [],
   "source": [
    "#generator call: way1"
   ]
  },
  {
   "cell_type": "code",
   "execution_count": 8,
   "id": "ceca326b-af4b-4a10-8ca6-0be4bf96b85f",
   "metadata": {},
   "outputs": [
    {
     "data": {
      "text/plain": [
       "<generator object myGenerator at 0x7fa4860b2cf0>"
      ]
     },
     "execution_count": 8,
     "metadata": {},
     "output_type": "execute_result"
    }
   ],
   "source": [
    "gen = myGenerator()\n",
    "gen"
   ]
  },
  {
   "cell_type": "code",
   "execution_count": 9,
   "id": "979396f0-0a6e-434d-b013-da1369bbc829",
   "metadata": {},
   "outputs": [
    {
     "name": "stdout",
     "output_type": "stream",
     "text": [
      "First Iteration\n",
      "Number 1 : n = 1\n"
     ]
    }
   ],
   "source": [
    "print(next(gen))"
   ]
  },
  {
   "cell_type": "code",
   "execution_count": 10,
   "id": "8f0fedac-2069-4ef2-9c67-1954710254d2",
   "metadata": {},
   "outputs": [
    {
     "name": "stdout",
     "output_type": "stream",
     "text": [
      "Second Iteration\n",
      "Number 2 : n = 3\n"
     ]
    }
   ],
   "source": [
    "print(next(gen))"
   ]
  },
  {
   "cell_type": "code",
   "execution_count": 11,
   "id": "ebd1f67d-717c-4a18-bbc4-f4525b06f202",
   "metadata": {},
   "outputs": [
    {
     "name": "stdout",
     "output_type": "stream",
     "text": [
      "Third Iteration\n",
      "Number 3 : n = 6\n"
     ]
    }
   ],
   "source": [
    "print(next(gen))"
   ]
  },
  {
   "cell_type": "code",
   "execution_count": 12,
   "id": "98967021-6261-49f5-9286-2a322281a574",
   "metadata": {},
   "outputs": [],
   "source": [
    "#the next function is called untill all values are yielded"
   ]
  },
  {
   "cell_type": "code",
   "execution_count": 13,
   "id": "25d344b3-5456-4a0e-a370-6b63dd4e9cfe",
   "metadata": {},
   "outputs": [],
   "source": [
    "#generator call: way2"
   ]
  },
  {
   "cell_type": "code",
   "execution_count": 15,
   "id": "ba05d919-b75a-42bb-87f3-3bff4c95502f",
   "metadata": {},
   "outputs": [
    {
     "name": "stdout",
     "output_type": "stream",
     "text": [
      "First Iteration\n",
      "Number 1 : n = 1 \n",
      "\n",
      "Second Iteration\n",
      "Number 2 : n = 3 \n",
      "\n",
      "Third Iteration\n",
      "Number 3 : n = 6 \n",
      "\n"
     ]
    }
   ],
   "source": [
    "gen = myGenerator()\n",
    "for value in gen :\n",
    "    print(value, '\\n')"
   ]
  },
  {
   "cell_type": "code",
   "execution_count": null,
   "id": "575a6297-aa84-44c2-bfd7-3c13111bb18a",
   "metadata": {},
   "outputs": [],
   "source": []
  }
 ],
 "metadata": {
  "kernelspec": {
   "display_name": "Python 3 (ipykernel)",
   "language": "python",
   "name": "python3"
  },
  "language_info": {
   "codemirror_mode": {
    "name": "ipython",
    "version": 3
   },
   "file_extension": ".py",
   "mimetype": "text/x-python",
   "name": "python",
   "nbconvert_exporter": "python",
   "pygments_lexer": "ipython3",
   "version": "3.8.18"
  }
 },
 "nbformat": 4,
 "nbformat_minor": 5
}
