{
 "cells": [
  {
   "cell_type": "code",
   "execution_count": 1,
   "id": "d35accf3-f07b-4df1-b9fc-fd4b8414aab2",
   "metadata": {},
   "outputs": [
    {
     "name": "stdout",
     "output_type": "stream",
     "text": [
      "a =  30  b =  30\n",
      "a < b :  False\n",
      "a == b :  True\n"
     ]
    }
   ],
   "source": [
    "a = 30\n",
    "b = 30\n",
    "print('a = ', a, ' b = ', b)\n",
    "print('a < b : ', a < b)\n",
    "print('a == b : ', a == b)"
   ]
  },
  {
   "cell_type": "code",
   "execution_count": 2,
   "id": "6a4fb37d-0604-419c-a26a-a56e1a97fb65",
   "metadata": {},
   "outputs": [
    {
     "name": "stdout",
     "output_type": "stream",
     "text": [
      "a < b and a == b :  False\n"
     ]
    }
   ],
   "source": [
    "print('a < b and a == b : ', a < b and a == b)"
   ]
  },
  {
   "cell_type": "code",
   "execution_count": 3,
   "id": "61f9420b-6567-4cd8-a5ef-688dedadf7bb",
   "metadata": {},
   "outputs": [
    {
     "name": "stdout",
     "output_type": "stream",
     "text": [
      "a < b or a == b :  True\n"
     ]
    }
   ],
   "source": [
    "print('a < b or a == b : ', a < b or a == b)"
   ]
  },
  {
   "cell_type": "code",
   "execution_count": 5,
   "id": "c69a308d-edac-423b-b2e4-4216685f754b",
   "metadata": {},
   "outputs": [
    {
     "name": "stdout",
     "output_type": "stream",
     "text": [
      "b =  30\n",
      "b < 50 :  True\n"
     ]
    }
   ],
   "source": [
    "b = 30\n",
    "print('b = ', b)\n",
    "print('b < 50 : ', b < 50)"
   ]
  },
  {
   "cell_type": "code",
   "execution_count": 6,
   "id": "6889ae9d-04b8-4086-8a5e-9b2ea315cd42",
   "metadata": {},
   "outputs": [
    {
     "name": "stdout",
     "output_type": "stream",
     "text": [
      "not b < 50 :  False\n"
     ]
    }
   ],
   "source": [
    "print('not b < 50 : ',not(b < 50))"
   ]
  },
  {
   "cell_type": "code",
   "execution_count": null,
   "id": "53673278-24db-4ad3-a43c-e22fa4337f3d",
   "metadata": {},
   "outputs": [],
   "source": []
  }
 ],
 "metadata": {
  "kernelspec": {
   "display_name": "Python 3 (ipykernel)",
   "language": "python",
   "name": "python3"
  },
  "language_info": {
   "codemirror_mode": {
    "name": "ipython",
    "version": 3
   },
   "file_extension": ".py",
   "mimetype": "text/x-python",
   "name": "python",
   "nbconvert_exporter": "python",
   "pygments_lexer": "ipython3",
   "version": "3.8.18"
  }
 },
 "nbformat": 4,
 "nbformat_minor": 5
}
