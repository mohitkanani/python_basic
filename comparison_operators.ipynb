{
 "cells": [
  {
   "cell_type": "code",
   "execution_count": 1,
   "id": "329d95b3-c956-45cd-99b0-7c7a9c1ecff2",
   "metadata": {},
   "outputs": [
    {
     "name": "stdout",
     "output_type": "stream",
     "text": [
      "a =  30  b =  30\n",
      "a == b :  True\n"
     ]
    }
   ],
   "source": [
    "a = 30\n",
    "b = 30\n",
    "print('a = ', a, ' b = ', b)\n",
    "print('a == b : ', a == b)"
   ]
  },
  {
   "cell_type": "code",
   "execution_count": 2,
   "id": "7e8c403b-88aa-4f9b-8b8d-54578742c641",
   "metadata": {},
   "outputs": [
    {
     "name": "stdout",
     "output_type": "stream",
     "text": [
      "a =  20  b =  30\n",
      "a != b :  True\n"
     ]
    }
   ],
   "source": [
    "a = 20\n",
    "b = 30\n",
    "print('a = ', a, ' b = ', b)\n",
    "print('a != b : ', a != b)"
   ]
  },
  {
   "cell_type": "code",
   "execution_count": 3,
   "id": "23b80d95-90a0-4313-89ba-04df5f368f3b",
   "metadata": {},
   "outputs": [
    {
     "name": "stdout",
     "output_type": "stream",
     "text": [
      "a =  40  b =  30\n",
      "a <= b :  False\n"
     ]
    }
   ],
   "source": [
    "a = 40Untitled\n",
    "b = 30\n",
    "print('a = ', a, ' b = ', b)\n",
    "print('a <= b : ', a <= b)"
   ]
  },
  {
   "cell_type": "code",
   "execution_count": 4,
   "id": "464f4636-a747-4f42-a5cc-a140d385e6b1",
   "metadata": {},
   "outputs": [
    {
     "name": "stdout",
     "output_type": "stream",
     "text": [
      "a =  30  b =  30\n",
      "a >= b :  True\n"
     ]
    }
   ],
   "source": [
    "a = 30\n",
    "b = 30\n",
    "print('a = ', a, ' b = ', b)\n",
    "print('a >= b : ', a >= b)"
   ]
  },
  {
   "cell_type": "code",
   "execution_count": null,
   "id": "3575a78b-8d20-441b-9d3e-f298828ddc3f",
   "metadata": {},
   "outputs": [],
   "source": []
  }
 ],
 "metadata": {
  "kernelspec": {
   "display_name": "Python 3 (ipykernel)",
   "language": "python",
   "name": "python3"
  },
  "language_info": {
   "codemirror_mode": {
    "name": "ipython",
    "version": 3
   },
   "file_extension": ".py",
   "mimetype": "text/x-python",
   "name": "python",
   "nbconvert_exporter": "python",
   "pygments_lexer": "ipython3",
   "version": "3.8.18"
  }
 },
 "nbformat": 4,
 "nbformat_minor": 5
}
