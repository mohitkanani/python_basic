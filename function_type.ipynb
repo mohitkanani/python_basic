{
 "cells": [
  {
   "cell_type": "code",
   "execution_count": 1,
   "id": "95239163-a379-4f47-860e-aaa780adc0ca",
   "metadata": {},
   "outputs": [
    {
     "name": "stdout",
     "output_type": "stream",
     "text": [
      "['ArithmeticError', 'AssertionError', 'AttributeError', 'BaseException', 'BlockingIOError', 'BrokenPipeError', 'BufferError', 'BytesWarning', 'ChildProcessError', 'ConnectionAbortedError', 'ConnectionError', 'ConnectionRefusedError', 'ConnectionResetError', 'DeprecationWarning', 'EOFError', 'Ellipsis', 'EnvironmentError', 'Exception', 'False', 'FileExistsError', 'FileNotFoundError', 'FloatingPointError', 'FutureWarning', 'GeneratorExit', 'IOError', 'ImportError', 'ImportWarning', 'IndentationError', 'IndexError', 'InterruptedError', 'IsADirectoryError', 'KeyError', 'KeyboardInterrupt', 'LookupError', 'MemoryError', 'ModuleNotFoundError', 'NameError', 'None', 'NotADirectoryError', 'NotImplemented', 'NotImplementedError', 'OSError', 'OverflowError', 'PendingDeprecationWarning', 'PermissionError', 'ProcessLookupError', 'RecursionError', 'ReferenceError', 'ResourceWarning', 'RuntimeError', 'RuntimeWarning', 'StopAsyncIteration', 'StopIteration', 'SyntaxError', 'SyntaxWarning', 'SystemError', 'SystemExit', 'TabError', 'TimeoutError', 'True', 'TypeError', 'UnboundLocalError', 'UnicodeDecodeError', 'UnicodeEncodeError', 'UnicodeError', 'UnicodeTranslateError', 'UnicodeWarning', 'UserWarning', 'ValueError', 'Warning', 'ZeroDivisionError', '__IPYTHON__', '__build_class__', '__debug__', '__doc__', '__import__', '__loader__', '__name__', '__package__', '__spec__', 'abs', 'all', 'any', 'ascii', 'bin', 'bool', 'breakpoint', 'bytearray', 'bytes', 'callable', 'chr', 'classmethod', 'compile', 'complex', 'copyright', 'credits', 'delattr', 'dict', 'dir', 'display', 'divmod', 'enumerate', 'eval', 'exec', 'execfile', 'filter', 'float', 'format', 'frozenset', 'get_ipython', 'getattr', 'globals', 'hasattr', 'hash', 'help', 'hex', 'id', 'input', 'int', 'isinstance', 'issubclass', 'iter', 'len', 'license', 'list', 'locals', 'map', 'max', 'memoryview', 'min', 'next', 'object', 'oct', 'open', 'ord', 'pow', 'print', 'property', 'range', 'repr', 'reversed', 'round', 'runfile', 'set', 'setattr', 'slice', 'sorted', 'staticmethod', 'str', 'sum', 'super', 'tuple', 'type', 'vars', 'zip']\n"
     ]
    }
   ],
   "source": [
    "#built in functions\n",
    "print(dir(__builtins__))"
   ]
  },
  {
   "cell_type": "code",
   "execution_count": null,
   "id": "fb2b828e-ec53-4bdc-9fc2-2d6a2c0dd847",
   "metadata": {},
   "outputs": [],
   "source": [
    "#map function"
   ]
  },
  {
   "cell_type": "code",
   "execution_count": 6,
   "id": "7be855d4-a666-418b-a9c3-8a82317b88e2",
   "metadata": {},
   "outputs": [
    {
     "name": "stdout",
     "output_type": "stream",
     "text": [
      " 33.0 in degree C is equivalent to   91.4 in degree F.\n",
      " 54.4 in degree C is equivalent to  129.9 in degree F.\n",
      " 43.5 in degree C is equivalent to  110.3 in degree F.\n",
      " 38.6 in degree C is equivalent to  101.5 in degree F.\n"
     ]
    }
   ],
   "source": [
    "temp = [33.0, 54.4, 43.5, 38.6]\n",
    "for T in temp:\n",
    "    f = ((9/5) * T) + 32\n",
    "    print('{:5.1f} in degree C is equivalent to {:6.1f} in degree F.'.format(T,f))\n"
   ]
  },
  {
   "cell_type": "code",
   "execution_count": 7,
   "id": "a63138f8-50d6-497e-8feb-965385bc4426",
   "metadata": {},
   "outputs": [],
   "source": [
    "def Fahrenhite(T):\n",
    "    return round(((9/5) * T) + 32, 1)"
   ]
  },
  {
   "cell_type": "code",
   "execution_count": 8,
   "id": "1153872c-5531-441b-b551-b4b26c55894e",
   "metadata": {},
   "outputs": [
    {
     "name": "stdout",
     "output_type": "stream",
     "text": [
      "Temp in deg C  [33.0, 54.4, 43.5, 38.6]\n",
      "Temp in deg F  [91.4, 129.9, 110.3, 101.5]\n"
     ]
    }
   ],
   "source": [
    "results = list(map(Fahrenhite, temp))\n",
    "print('Temp in deg C ', temp)\n",
    "print('Temp in deg F ', results)"
   ]
  },
  {
   "cell_type": "code",
   "execution_count": 3,
   "id": "a9c1d64f-3ead-4001-870f-4c24dcd0c5d6",
   "metadata": {},
   "outputs": [],
   "source": [
    "# using lambda function"
   ]
  },
  {
   "cell_type": "code",
   "execution_count": 23,
   "id": "258ac6f0-0eda-4408-9991-10021abbeedc",
   "metadata": {},
   "outputs": [
    {
     "name": "stdout",
     "output_type": "stream",
     "text": [
      "Temp in deg C  [33.0, 54.4, 43.5, 38.6]\n",
      "Temp in deg F  [91.4, 129.9, 110.3, 101.5]\n"
     ]
    },
    {
     "data": {
      "text/plain": [
       "<map at 0x7f02b441e4c0>"
      ]
     },
     "execution_count": 23,
     "metadata": {},
     "output_type": "execute_result"
    }
   ],
   "source": [
    "results = list(map(lambda T: round(((9/5) * T) + 32, 1), temp))\n",
    "print('Temp in deg C ', temp)\n",
    "print('Temp in deg F ', results)"
   ]
  },
  {
   "cell_type": "code",
   "execution_count": 14,
   "id": "9e3f3a07-75e2-4456-a886-a884efed1132",
   "metadata": {},
   "outputs": [
    {
     "name": "stdout",
     "output_type": "stream",
     "text": [
      "[1, 5, 15, 25, 35]\n"
     ]
    }
   ],
   "source": [
    "numbers = [1, 5, 10, 15, 20, 25, 30, 35, 40]\n",
    "odd_numbers = []\n",
    "for n in numbers:\n",
    "    if n % 2:\n",
    "        odd_numbers.append(n)\n",
    "print(odd_numbers)"
   ]
  },
  {
   "cell_type": "code",
   "execution_count": 15,
   "id": "7a4dbb43-d8c3-4604-b287-2cfff0cb48f5",
   "metadata": {},
   "outputs": [
    {
     "name": "stdout",
     "output_type": "stream",
     "text": [
      "[1, 5, 15, 25, 35]\n"
     ]
    }
   ],
   "source": [
    "numbers = [1, 5, 10, 15, 20, 25, 30, 35, 40]\n",
    "odd_numbers = list(filter ( lambda n: n % 2, numbers))\n",
    "print(odd_numbers)"
   ]
  },
  {
   "cell_type": "code",
   "execution_count": 16,
   "id": "e3640582-07e4-479d-8bac-ff17237c8e9b",
   "metadata": {},
   "outputs": [],
   "source": [
    "#reduce function"
   ]
  },
  {
   "cell_type": "code",
   "execution_count": 17,
   "id": "989fe678-771c-4bc3-9a6d-eb3b7bd866b0",
   "metadata": {},
   "outputs": [
    {
     "name": "stdout",
     "output_type": "stream",
     "text": [
      "181\n"
     ]
    }
   ],
   "source": [
    "numbers = [1, 5, 10, 15, 20, 25, 30, 35, 40]\n",
    "total = 0\n",
    "for n in numbers:\n",
    "    total += n\n",
    "print(total)"
   ]
  },
  {
   "cell_type": "code",
   "execution_count": 21,
   "id": "89b295f7-faf7-46c0-913e-3fd0bef765f3",
   "metadata": {},
   "outputs": [
    {
     "name": "stdout",
     "output_type": "stream",
     "text": [
      "Total =  181\n"
     ]
    }
   ],
   "source": [
    "from _functools import reduce\n",
    "numbers = [1, 5, 10, 15, 20, 25, 30, 35, 40]\n",
    "result = reduce(lambda x,y : x + y, numbers)\n",
    "print('Total = ', result)"
   ]
  },
  {
   "cell_type": "code",
   "execution_count": null,
   "id": "0eaa0225-8c1d-4dc8-b077-672b6180ff5b",
   "metadata": {},
   "outputs": [],
   "source": []
  }
 ],
 "metadata": {
  "kernelspec": {
   "display_name": "Python 3 (ipykernel)",
   "language": "python",
   "name": "python3"
  },
  "language_info": {
   "codemirror_mode": {
    "name": "ipython",
    "version": 3
   },
   "file_extension": ".py",
   "mimetype": "text/x-python",
   "name": "python",
   "nbconvert_exporter": "python",
   "pygments_lexer": "ipython3",
   "version": "3.8.18"
  }
 },
 "nbformat": 4,
 "nbformat_minor": 5
}
