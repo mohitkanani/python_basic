{
 "cells": [
  {
   "cell_type": "code",
   "execution_count": 1,
   "id": "f32a06d2-a556-4edc-96dd-feea0445fa7c",
   "metadata": {},
   "outputs": [
    {
     "name": "stdout",
     "output_type": "stream",
     "text": [
      "x =  34 ; id of x =  94407083020768\n",
      "x =  34 ; id of y =  94407083020768\n"
     ]
    }
   ],
   "source": [
    "x = 34\n",
    "y = x\n",
    "print('x = ', x, '; id of x = ', id(x))\n",
    "print('x = ', y, '; id of y = ', id(y))"
   ]
  },
  {
   "cell_type": "code",
   "execution_count": 2,
   "id": "a124c3ba-0d31-4852-9233-e52690cb4f87",
   "metadata": {},
   "outputs": [
    {
     "name": "stdout",
     "output_type": "stream",
     "text": [
      "x =  78 ; id of x =  94407083022176\n",
      "x =  34 ; id of y =  94407083020768\n"
     ]
    }
   ],
   "source": [
    "x = 78\n",
    "print('x = ', x, '; id of x = ', id(x))\n",
    "print('x = ', y, '; id of y = ', id(y))"
   ]
  },
  {
   "cell_type": "code",
   "execution_count": null,
   "id": "d09b1ad7-3ef3-4e7e-9dda-926d8d78fac1",
   "metadata": {},
   "outputs": [],
   "source": []
  }
 ],
 "metadata": {
  "kernelspec": {
   "display_name": "Python 3 (ipykernel)",
   "language": "python",
   "name": "python3"
  },
  "language_info": {
   "codemirror_mode": {
    "name": "ipython",
    "version": 3
   },
   "file_extension": ".py",
   "mimetype": "text/x-python",
   "name": "python",
   "nbconvert_exporter": "python",
   "pygments_lexer": "ipython3",
   "version": "3.8.18"
  }
 },
 "nbformat": 4,
 "nbformat_minor": 5
}
