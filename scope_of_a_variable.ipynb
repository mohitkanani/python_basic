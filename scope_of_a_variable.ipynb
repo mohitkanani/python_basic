{
 "cells": [
  {
   "cell_type": "code",
   "execution_count": 1,
   "id": "a0d10e29-cce7-4917-84f4-aebddf286c4b",
   "metadata": {},
   "outputs": [
    {
     "name": "stdout",
     "output_type": "stream",
     "text": [
      "20\n"
     ]
    }
   ],
   "source": [
    "# Global Variable\n",
    "var = 20\n",
    "print(var)"
   ]
  },
  {
   "cell_type": "code",
   "execution_count": 2,
   "id": "c55d27bf-7e2d-4642-a18c-c3fc5203bcd1",
   "metadata": {},
   "outputs": [],
   "source": [
    "#Local Variables\n",
    "def foo(inp):\n",
    "    #local variable\n",
    "    lc = 30\n",
    "    print('Input Parameter : ', inp)\n",
    "    print('Local Value : ', lc)"
   ]
  },
  {
   "cell_type": "code",
   "execution_count": 3,
   "id": "20ee2ea9-9f52-4780-b82f-31036e609c88",
   "metadata": {},
   "outputs": [
    {
     "name": "stdout",
     "output_type": "stream",
     "text": [
      "Input Parameter :  56\n",
      "Local Value :  30\n"
     ]
    }
   ],
   "source": [
    "foo(56)"
   ]
  },
  {
   "cell_type": "code",
   "execution_count": 4,
   "id": "c5da3e26-66a4-45e8-97e5-2b5c6c51ba58",
   "metadata": {},
   "outputs": [
    {
     "ename": "NameError",
     "evalue": "name 'inp' is not defined",
     "output_type": "error",
     "traceback": [
      "\u001b[0;31m---------------------------------------------------------------------------\u001b[0m",
      "\u001b[0;31mNameError\u001b[0m                                 Traceback (most recent call last)",
      "Cell \u001b[0;32mIn[4], line 2\u001b[0m\n\u001b[1;32m      1\u001b[0m \u001b[38;5;66;03m#calling local variable outside function\u001b[39;00m\n\u001b[0;32m----> 2\u001b[0m \u001b[38;5;28mprint\u001b[39m(\u001b[43minp\u001b[49m)\n",
      "\u001b[0;31mNameError\u001b[0m: name 'inp' is not defined"
     ]
    }
   ],
   "source": [
    "#calling local variable outside function\n",
    "print(inp)"
   ]
  },
  {
   "cell_type": "code",
   "execution_count": 6,
   "id": "1d1e26f2-a513-4edf-98bb-3c54e5b4203b",
   "metadata": {},
   "outputs": [],
   "source": [
    "#calling global variable inside a function\n",
    "def foo2():\n",
    "    square = var ** 2\n",
    "    return square"
   ]
  },
  {
   "cell_type": "code",
   "execution_count": 7,
   "id": "76dec8fc-93f9-48a5-b5cf-4c20a9a5f24a",
   "metadata": {},
   "outputs": [
    {
     "data": {
      "text/plain": [
       "400"
      ]
     },
     "execution_count": 7,
     "metadata": {},
     "output_type": "execute_result"
    }
   ],
   "source": [
    "foo2()"
   ]
  },
  {
   "cell_type": "code",
   "execution_count": 8,
   "id": "a3570cf7-55c9-4ef2-83c2-57d202b8e46c",
   "metadata": {},
   "outputs": [],
   "source": [
    "#local and global variable with same name"
   ]
  },
  {
   "cell_type": "code",
   "execution_count": 9,
   "id": "98542448-d77a-44e3-95c2-6ed5b85d5825",
   "metadata": {},
   "outputs": [],
   "source": [
    "var = 10 #global variable"
   ]
  },
  {
   "cell_type": "code",
   "execution_count": 10,
   "id": "3aff4491-9fa7-46d4-83a1-02b4ddea9461",
   "metadata": {},
   "outputs": [],
   "source": [
    "def foo3():\n",
    "    var = 50 #local variable\n",
    "    print('Inside Function var = ', var)"
   ]
  },
  {
   "cell_type": "code",
   "execution_count": 12,
   "id": "c370c167-945c-4193-ac1c-58c7fa1a8955",
   "metadata": {},
   "outputs": [
    {
     "name": "stdout",
     "output_type": "stream",
     "text": [
      "Inside Function var =  50\n",
      "Outside function var =  10\n"
     ]
    }
   ],
   "source": [
    "foo3()\n",
    "print(\"Outside function var = \", var)"
   ]
  },
  {
   "cell_type": "code",
   "execution_count": 13,
   "id": "fbca1ffe-8ed9-434e-819c-954fdc1685de",
   "metadata": {},
   "outputs": [],
   "source": [
    "# creating or manipulating global variable inside a function"
   ]
  },
  {
   "cell_type": "code",
   "execution_count": 20,
   "id": "0686f8bf-43d0-4c38-a841-29e627ade1da",
   "metadata": {},
   "outputs": [
    {
     "name": "stdout",
     "output_type": "stream",
     "text": [
      "Before function call var =  15\n",
      "Iinside function var =  75\n",
      "Outside function var =  75\n"
     ]
    }
   ],
   "source": [
    "var = 15\n",
    "print(\"Before function call var = \", var)\n",
    "def foo4():\n",
    "    global var\n",
    "    var *= 5\n",
    "    print('Iinside function var = ', var)\n",
    "\n",
    "foo4()\n",
    "print(\"Outside function var = \", var)"
   ]
  },
  {
   "cell_type": "code",
   "execution_count": 22,
   "id": "0b7aed5a-f622-48cc-8d49-6627eafd9c1f",
   "metadata": {},
   "outputs": [
    {
     "name": "stdout",
     "output_type": "stream",
     "text": [
      "Before function call var =  15\n",
      "Iinside function var =  75\n",
      "Outside function var =  15\n"
     ]
    }
   ],
   "source": [
    "var = 15\n",
    "print(\"Before function call var = \", var)\n",
    "def foo5(var):\n",
    "    var *= 5\n",
    "    print('Iinside function var = ', var)\n",
    "\n",
    "foo5(var)\n",
    "print(\"Outside function var = \", var)"
   ]
  },
  {
   "cell_type": "code",
   "execution_count": null,
   "id": "7f70c32c-61b7-40ed-89de-972fdb841f93",
   "metadata": {},
   "outputs": [],
   "source": []
  }
 ],
 "metadata": {
  "kernelspec": {
   "display_name": "Python 3 (ipykernel)",
   "language": "python",
   "name": "python3"
  },
  "language_info": {
   "codemirror_mode": {
    "name": "ipython",
    "version": 3
   },
   "file_extension": ".py",
   "mimetype": "text/x-python",
   "name": "python",
   "nbconvert_exporter": "python",
   "pygments_lexer": "ipython3",
   "version": "3.8.18"
  }
 },
 "nbformat": 4,
 "nbformat_minor": 5
}
