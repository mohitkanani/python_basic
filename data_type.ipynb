{
 "cells": [
  {
   "cell_type": "code",
   "execution_count": 2,
   "id": "1e27065a-9a0c-4c06-9cbc-d88d8c0d72ae",
   "metadata": {},
   "outputs": [
    {
     "name": "stdout",
     "output_type": "stream",
     "text": [
      "X =  39 \ty =  45.89 \tz =  True\n"
     ]
    }
   ],
   "source": [
    "x = 39 ; y = 45.89 ; z = True\n",
    "print('X = ', x, '\\ty = ', y, '\\tz = ', z)"
   ]
  },
  {
   "cell_type": "code",
   "execution_count": 3,
   "id": "a0fda0f7-180b-4aea-b125-6668ff1e68b3",
   "metadata": {},
   "outputs": [
    {
     "name": "stdout",
     "output_type": "stream",
     "text": [
      "Type of \n",
      "x =  <class 'int'> \n",
      "y =  <class 'float'> \tz =  <class 'bool'>\n"
     ]
    }
   ],
   "source": [
    "print('Type of \\nx = ', type(x), '\\ny = ', type(y), '\\tz = ', type(z))"
   ]
  },
  {
   "cell_type": "code",
   "execution_count": 4,
   "id": "115f9650-90d4-4238-975d-c43a4f7834c4",
   "metadata": {},
   "outputs": [
    {
     "name": "stdout",
     "output_type": "stream",
     "text": [
      "var =  Hello\n",
      "type of var  <class 'str'>\n"
     ]
    }
   ],
   "source": [
    "var =  'Hello'\n",
    "print('var = ', var)\n",
    "print('type of var ', type(var))"
   ]
  }
 ],
 "metadata": {
  "kernelspec": {
   "display_name": "Python 3 (ipykernel)",
   "language": "python",
   "name": "python3"
  },
  "language_info": {
   "codemirror_mode": {
    "name": "ipython",
    "version": 3
   },
   "file_extension": ".py",
   "mimetype": "text/x-python",
   "name": "python",
   "nbconvert_exporter": "python",
   "pygments_lexer": "ipython3",
   "version": "3.8.18"
  }
 },
 "nbformat": 4,
 "nbformat_minor": 5
}
