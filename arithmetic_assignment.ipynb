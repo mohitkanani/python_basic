{
 "cells": [
  {
   "cell_type": "code",
   "execution_count": 7,
   "id": "1f77fc5d-75d9-4740-9fa1-29b69f2f2b94",
   "metadata": {},
   "outputs": [
    {
     "name": "stdout",
     "output_type": "stream",
     "text": [
      "Present value of x =  50\n"
     ]
    }
   ],
   "source": [
    "x = 50\n",
    "print('Present value of x = ', x)"
   ]
  },
  {
   "cell_type": "code",
   "execution_count": 8,
   "id": "9429a751-8cd3-48e6-b2f5-e6861d11d462",
   "metadata": {},
   "outputs": [
    {
     "name": "stdout",
     "output_type": "stream",
     "text": [
      "Updated value of x =  55\n"
     ]
    }
   ],
   "source": [
    "x += 5\n",
    "print('Updated value of x = ', x)"
   ]
  },
  {
   "cell_type": "code",
   "execution_count": 9,
   "id": "2e03517a-ffea-4271-b962-3143f8d8e177",
   "metadata": {},
   "outputs": [
    {
     "name": "stdout",
     "output_type": "stream",
     "text": [
      "Present value of x =  10\n",
      "Present id of x =  94513718222560\n"
     ]
    }
   ],
   "source": [
    "x = 10\n",
    "print('Present value of x = ', x)\n",
    "print('Present id of x = ', id(x))"
   ]
  },
  {
   "cell_type": "code",
   "execution_count": 10,
   "id": "08abcc06-f2a2-43d9-a465-f5a8e422a853",
   "metadata": {},
   "outputs": [
    {
     "name": "stdout",
     "output_type": "stream",
     "text": [
      "Updated value of x =  25\n",
      "Updated id of x =  94513718223040\n"
     ]
    }
   ],
   "source": [
    "x += 15\n",
    "print('Updated value of x = ', x)\n",
    "print('Updated id of x = ', id(x))"
   ]
  },
  {
   "cell_type": "code",
   "execution_count": null,
   "id": "7137ea3a-381a-48a3-9deb-b31ff39fec19",
   "metadata": {},
   "outputs": [],
   "source": []
  }
 ],
 "metadata": {
  "kernelspec": {
   "display_name": "Python 3 (ipykernel)",
   "language": "python",
   "name": "python3"
  },
  "language_info": {
   "codemirror_mode": {
    "name": "ipython",
    "version": 3
   },
   "file_extension": ".py",
   "mimetype": "text/x-python",
   "name": "python",
   "nbconvert_exporter": "python",
   "pygments_lexer": "ipython3",
   "version": "3.8.18"
  }
 },
 "nbformat": 4,
 "nbformat_minor": 5
}
