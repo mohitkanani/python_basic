{
 "cells": [
  {
   "cell_type": "markdown",
   "id": "bb4a7046-9e1a-4139-afff-843c7e2eaa4f",
   "metadata": {},
   "source": [
    "Threading"
   ]
  },
  {
   "cell_type": "code",
   "execution_count": null,
   "id": "4c075428-0f3d-471d-b7e6-b08fcd06d2d0",
   "metadata": {},
   "outputs": [],
   "source": [
    "import time\n",
    "\n",
    "def counting():\n",
    "    for i in range(1, 10):\n",
    "        time.sleep(1)\n",
    "        print(i)"
   ]
  },
  {
   "cell_type": "code",
   "execution_count": null,
   "id": "1713d4bd-7334-4275-a684-3eaec5db0025",
   "metadata": {},
   "outputs": [],
   "source": [
    "def alphabets():\n",
    "    for i in range(ord('A'), ord('Z') + 1):\n",
    "        time.sleep(0.5)\n",
    "        print(chr(i))"
   ]
  },
  {
   "cell_type": "code",
   "execution_count": null,
   "id": "06a3ff00-6ac7-4f45-a108-90f7d1b5802e",
   "metadata": {},
   "outputs": [],
   "source": [
    "# function call\n",
    "counting()\n",
    "alphabets()"
   ]
  },
  {
   "cell_type": "code",
   "execution_count": null,
   "id": "059986e6-30e8-4078-b0d1-1bda5d60dce5",
   "metadata": {},
   "outputs": [],
   "source": [
    "import threading\n",
    "def counting():\n",
    "    for i in range(1, 10):\n",
    "        time.sleep(2)\n",
    "        print('\\t',i)\n",
    "def alphabets():\n",
    "    for i in range(ord('A'), ord('Z') + 1):\n",
    "        time.sleep(1)\n",
    "        print(chr(i))"
   ]
  },
  {
   "cell_type": "markdown",
   "id": "9a2d300d-e59f-49be-b5fc-c6da045a899c",
   "metadata": {},
   "source": [
    "Creating new threads"
   ]
  },
  {
   "cell_type": "code",
   "execution_count": null,
   "id": "b8635b82-bc58-4ed8-a6e2-220c99d9eb96",
   "metadata": {},
   "outputs": [],
   "source": [
    "obj_thread_count = threading.Thread(target = counting)\n",
    "obj_thread_alpha = threading.Thread(target = alphabets)"
   ]
  },
  {
   "cell_type": "markdown",
   "id": "b52e98c7-a1fb-4472-b222-712ed2552c4e",
   "metadata": {},
   "source": [
    "start the thread"
   ]
  },
  {
   "cell_type": "code",
   "execution_count": null,
   "id": "c39d00c9-089e-4c78-8b84-24df834ec818",
   "metadata": {},
   "outputs": [],
   "source": [
    "obj_thread_count.start()\n",
    "obj_thread_alpha.start()"
   ]
  },
  {
   "cell_type": "markdown",
   "id": "49d1490f-e384-4611-a88d-95a222dde29e",
   "metadata": {},
   "source": [
    "using a derived class of thread"
   ]
  },
  {
   "cell_type": "code",
   "execution_count": null,
   "id": "cf63690c-8367-493f-a1c1-b7846baa3de2",
   "metadata": {},
   "outputs": [],
   "source": [
    "class myThread(threading.Thread):\n",
    "    def __init__(self, threadID, name, counter):\n",
    "        threading.Thread.__init__(self)\n",
    "        self.thread_id = threadID\n",
    "        self.thread_name = name\n",
    "        self.counter = counter\n",
    "    def run(self):\n",
    "        print('Staring ' + self.thread_name)\n",
    "        print_time(self.thread_name, 5, self.counter)\n",
    "        print(\"Exiting \" + self.thread_name)\n",
    "def print_time(name, delay, counter):\n",
    "    while counter:\n",
    "        time.sleep(delay)\n",
    "        print(\"{} : {}\".format(name, time.ctime(time.time())))\n",
    "        counter -= 1\n",
    "\n",
    "# create new threads\n",
    "thread_1 = myThread(1, 'Thread-1', 3)\n",
    "thread_2 = myThread(2, 'Thread-2', 2)\n",
    "\n",
    "# start new thread\n",
    "thread_1.start()\n",
    "thread_2.start()\n",
    "thread_1.join()\n",
    "thread_2.join()\n",
    "print(\"Exiting Main Thread\")"
   ]
  },
  {
   "cell_type": "markdown",
   "id": "53b74640-14e8-4893-b250-bb6b566f5262",
   "metadata": {},
   "source": [
    "Without Join function"
   ]
  },
  {
   "cell_type": "code",
   "execution_count": null,
   "id": "8585f130-2f0c-4781-8ecc-91008b58f43a",
   "metadata": {},
   "outputs": [],
   "source": [
    "class myThread(threading.Thread):\n",
    "    def __init__(self, threadID, name, counter):\n",
    "        threading.Thread.__init__(self)\n",
    "        self.thread_id = threadID\n",
    "        self.thread_name = name\n",
    "        self.counter = counter\n",
    "    def run(self):\n",
    "        print('Staring ' + self.thread_name)\n",
    "        print_time(self.thread_name, 5, self.counter)\n",
    "        print(\"Exiting \" + self.thread_name)\n",
    "def print_time(name, delay, counter):\n",
    "    while counter:\n",
    "        time.sleep(delay)\n",
    "        print(\"{} : {}\".format(name, time.ctime(time.time())))\n",
    "        counter -= 1\n",
    "\n",
    "# create new threads\n",
    "thread_1 = myThread(1, 'Thread-1', 3)\n",
    "thread_2 = myThread(2, 'Thread-2', 2)\n",
    "\n",
    "# start new thread\n",
    "thread_1.start()\n",
    "thread_2.start()\n",
    "print(\"Exiting Main Thread\")"
   ]
  },
  {
   "cell_type": "markdown",
   "id": "7a7d43f2-32b9-4691-82d7-e089673097b5",
   "metadata": {},
   "source": [
    "Synchronization"
   ]
  },
  {
   "cell_type": "code",
   "execution_count": 1,
   "id": "97f043c7-e299-49cf-bd0f-88a3db20e4d0",
   "metadata": {},
   "outputs": [],
   "source": [
    "import threading\n",
    "import time"
   ]
  },
  {
   "cell_type": "code",
   "execution_count": 12,
   "id": "e12cf670-26f6-4b29-98bc-d70074848e30",
   "metadata": {},
   "outputs": [
    {
     "name": "stdout",
     "output_type": "stream",
     "text": [
      "Initial balance value :  300\n",
      "\n",
      "Starting Thread 1\n",
      "\n",
      " foo 1 called \n",
      "\n",
      "\n",
      "Starting Thread 2\n",
      "\n",
      " foo 2 called \n",
      "\n",
      "\n",
      "value of balance updated 150.0\n",
      "\n",
      "Final Balance 300.0\n"
     ]
    }
   ],
   "source": [
    "balance = 300\n",
    "\n",
    "print('Initial balance value : ', balance)\n",
    "\n",
    "class myThread(threading.Thread):\n",
    "    def __init__(self, name, target):\n",
    "        threading.Thread.__init__(self)\n",
    "        self.name = name\n",
    "        self.target = target\n",
    "    def run(self):\n",
    "        print('\\nStarting Thread', self.name)\n",
    "        # function call\n",
    "        self.target()\n",
    "\n",
    "def foo1():\n",
    "    print(\"\\n foo 1 called \\n\")\n",
    "    time.sleep(3)\n",
    "    final_balance = balance * 2\n",
    "    print('\\nFinal Balance', final_balance)\n",
    "\n",
    "def foo2():\n",
    "    print(\"\\n foo 2 called \\n\")\n",
    "    global balance\n",
    "    balance /= 2\n",
    "    print('\\nvalue of balance updated', balance)\n",
    "\n",
    "my_thread_1 = myThread(name = 1, target = foo1)\n",
    "my_thread_2 = myThread(name = 2, target = foo2)\n",
    "\n",
    "my_thread_1.start()\n",
    "my_thread_2.start()"
   ]
  },
  {
   "cell_type": "code",
   "execution_count": 17,
   "id": "36cafe55-1a66-44ed-8a9f-25a7a89040e7",
   "metadata": {},
   "outputs": [
    {
     "name": "stdout",
     "output_type": "stream",
     "text": [
      "Initial balance value :  300\n",
      "\n",
      "Starting Thread 1\n",
      "\n",
      "Lock acquired for thread : 1\n",
      "\n",
      " foo 1 called \n",
      "\n",
      "\n",
      "Starting Thread 2\n",
      "\n",
      "Final Balance 600\n",
      "\n",
      "Lock released for thread : 1\n",
      "\n",
      "Lock acquired for thread : 2\n",
      "\n",
      " foo 2 called \n",
      "\n",
      "\n",
      "value of balance updated 150.0\n",
      "\n",
      "Lock released for thread : 2\n"
     ]
    }
   ],
   "source": [
    "balance = 300\n",
    "\n",
    "print('Initial balance value : ', balance)\n",
    "\n",
    "class mySyncThread(threading.Thread):\n",
    "    def __init__(self, name, target):\n",
    "        threading.Thread.__init__(self)\n",
    "        self.name = name\n",
    "        self.target = target\n",
    "    def run(self):\n",
    "        print('\\nStarting Thread', self.name)\n",
    "        # acquire\n",
    "        threadLock.acquire()\n",
    "        print('\\nLock acquired for thread :',self.name)\n",
    "        # function call\n",
    "        self.target()\n",
    "        # Free Lock\n",
    "        threadLock.release()\n",
    "        print('\\nLock released for thread :',self.name)\n",
    "\n",
    "def foo1():\n",
    "    print(\"\\n foo 1 called \\n\")\n",
    "    time.sleep(3)\n",
    "    final_balance = balance * 2\n",
    "    print('\\nFinal Balance', final_balance)\n",
    "\n",
    "def foo2():\n",
    "    print(\"\\n foo 2 called \\n\")\n",
    "    global balance\n",
    "    balance /= 2\n",
    "    print('\\nvalue of balance updated', balance)\n",
    "\n",
    "# creating a lock object\n",
    "threadLock = threading.Lock()\n",
    "\n",
    "my_sync_thread_1 = mySyncThread(name = 1, target = foo1)\n",
    "my_sync_thread_2 = mySyncThread(name = 2, target = foo2)\n",
    "\n",
    "my_sync_thread_1.start()\n",
    "my_sync_thread_2.start()\n",
    "my_sync_thread_1.join()\n",
    "my_sync_thread_2.join()"
   ]
  },
  {
   "cell_type": "code",
   "execution_count": null,
   "id": "4bd4acee-6ac6-4471-8bbe-aff5b87803a0",
   "metadata": {},
   "outputs": [],
   "source": []
  }
 ],
 "metadata": {
  "kernelspec": {
   "display_name": "Python 3 (ipykernel)",
   "language": "python",
   "name": "python3"
  },
  "language_info": {
   "codemirror_mode": {
    "name": "ipython",
    "version": 3
   },
   "file_extension": ".py",
   "mimetype": "text/x-python",
   "name": "python",
   "nbconvert_exporter": "python",
   "pygments_lexer": "ipython3",
   "version": "3.8.18"
  }
 },
 "nbformat": 4,
 "nbformat_minor": 5
}
