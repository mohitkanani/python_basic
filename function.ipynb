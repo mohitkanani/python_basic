{
 "cells": [
  {
   "cell_type": "code",
   "execution_count": 1,
   "id": "33f6aa30-8204-4d7a-b038-e6b3177bf73a",
   "metadata": {},
   "outputs": [],
   "source": [
    "#Function Defination\n",
    "def greetings(name, greeting):\n",
    "    print(greeting, '! ', name, sep = '')"
   ]
  },
  {
   "cell_type": "code",
   "execution_count": 2,
   "id": "00b301e1-3915-4c97-b9ea-c6ddea2ad92f",
   "metadata": {},
   "outputs": [
    {
     "name": "stdout",
     "output_type": "stream",
     "text": [
      "Hello! Mohit\n"
     ]
    }
   ],
   "source": [
    "# Function Call\n",
    "greetings('Mohit', 'Hello')"
   ]
  },
  {
   "cell_type": "code",
   "execution_count": 4,
   "id": "bae2d775-5aa3-4d58-b123-7e15b1401bc9",
   "metadata": {},
   "outputs": [
    {
     "name": "stdout",
     "output_type": "stream",
     "text": [
      "Mohit! Hello\n"
     ]
    }
   ],
   "source": [
    "#Positional Argument\n",
    "greetings('Hello', 'Mohit')"
   ]
  },
  {
   "cell_type": "code",
   "execution_count": 5,
   "id": "3ba77a6d-35f7-402f-8160-70ad5ccb259c",
   "metadata": {},
   "outputs": [],
   "source": [
    "# Keyword Arguments"
   ]
  },
  {
   "cell_type": "code",
   "execution_count": 10,
   "id": "2e8550fa-bbe1-4aa6-a86a-24c941d850c1",
   "metadata": {},
   "outputs": [
    {
     "name": "stdout",
     "output_type": "stream",
     "text": [
      "hello! Mohit\n"
     ]
    }
   ],
   "source": [
    "greetings(greeting = 'hello', name = 'Mohit')"
   ]
  },
  {
   "cell_type": "code",
   "execution_count": 11,
   "id": "5ab9684a-fbfe-4ec9-a75a-77c1109777d7",
   "metadata": {},
   "outputs": [],
   "source": [
    "# Parameters with Defauly value"
   ]
  },
  {
   "cell_type": "code",
   "execution_count": 12,
   "id": "09e05191-b2ef-4089-ac56-df3883ce19a5",
   "metadata": {},
   "outputs": [],
   "source": [
    "def greetings(name, greeting):\n",
    "    print(greeting, '! ', name, sep = '')"
   ]
  },
  {
   "cell_type": "code",
   "execution_count": 13,
   "id": "542eb6a3-a089-46b6-a77b-24c18ae5c0f8",
   "metadata": {},
   "outputs": [
    {
     "ename": "TypeError",
     "evalue": "greetings() missing 1 required positional argument: 'greeting'",
     "output_type": "error",
     "traceback": [
      "\u001b[0;31m---------------------------------------------------------------------------\u001b[0m",
      "\u001b[0;31mTypeError\u001b[0m                                 Traceback (most recent call last)",
      "Cell \u001b[0;32mIn[13], line 1\u001b[0m\n\u001b[0;32m----> 1\u001b[0m \u001b[43mgreetings\u001b[49m\u001b[43m(\u001b[49m\u001b[38;5;124;43m'\u001b[39;49m\u001b[38;5;124;43mMohit\u001b[39;49m\u001b[38;5;124;43m'\u001b[39;49m\u001b[43m)\u001b[49m\n",
      "\u001b[0;31mTypeError\u001b[0m: greetings() missing 1 required positional argument: 'greeting'"
     ]
    }
   ],
   "source": [
    "greetings('Mohit')"
   ]
  },
  {
   "cell_type": "code",
   "execution_count": 14,
   "id": "8eb88dda-a349-4b1c-a284-217cfa81ec94",
   "metadata": {},
   "outputs": [],
   "source": [
    "def greetings(name, greeting = 'Hello'):\n",
    "    print(greeting, '! ', name, sep = '')"
   ]
  },
  {
   "cell_type": "code",
   "execution_count": 15,
   "id": "bb9c009f-a381-4f10-8728-27d4ea74342e",
   "metadata": {},
   "outputs": [
    {
     "name": "stdout",
     "output_type": "stream",
     "text": [
      "Hello! Mohit\n"
     ]
    }
   ],
   "source": [
    "greetings('Mohit')"
   ]
  },
  {
   "cell_type": "code",
   "execution_count": 16,
   "id": "03aa81b7-afb8-43e5-a810-d51c72b02252",
   "metadata": {},
   "outputs": [
    {
     "name": "stdout",
     "output_type": "stream",
     "text": [
      "Hi! Mohit\n"
     ]
    }
   ],
   "source": [
    "greetings('Mohit', 'Hi')"
   ]
  },
  {
   "cell_type": "code",
   "execution_count": null,
   "id": "a9b9a96a-268c-432b-af23-efd11260bb4e",
   "metadata": {},
   "outputs": [],
   "source": [
    "# Arbitrary Arguments"
   ]
  },
  {
   "cell_type": "code",
   "execution_count": 17,
   "id": "ca13919d-7c40-4004-ab21-b4a47dd16c0d",
   "metadata": {},
   "outputs": [],
   "source": [
    "# function defined with non keyword variable no. of arguments\n",
    "def total(*args):\n",
    "    total = 0\n",
    "    for n in args:\n",
    "        total += n\n",
    "    print(total)"
   ]
  },
  {
   "cell_type": "code",
   "execution_count": 18,
   "id": "dd0f3f43-7bd3-44b0-a8cf-a72ce4651b0d",
   "metadata": {},
   "outputs": [
    {
     "name": "stdout",
     "output_type": "stream",
     "text": [
      "110\n"
     ]
    }
   ],
   "source": [
    "total(45,65)"
   ]
  },
  {
   "cell_type": "code",
   "execution_count": 19,
   "id": "8776caea-a43a-4884-87bc-28992c9c5cd7",
   "metadata": {},
   "outputs": [
    {
     "name": "stdout",
     "output_type": "stream",
     "text": [
      "15\n"
     ]
    }
   ],
   "source": [
    "total(1,2,3,4,5)"
   ]
  },
  {
   "cell_type": "code",
   "execution_count": 20,
   "id": "223bf670-941a-42af-8483-215503040212",
   "metadata": {},
   "outputs": [],
   "source": [
    "# Keyword Arbitrary Argument"
   ]
  },
  {
   "cell_type": "code",
   "execution_count": 21,
   "id": "3fd0b71b-09b8-4613-913c-3afac243d939",
   "metadata": {},
   "outputs": [],
   "source": [
    "#function defined with variable no. keyword variable no. of arguments\n",
    "def information(**kwargs):\n",
    "    for key in kwargs.keys():\n",
    "        print(key, \":\", kwargs[key])"
   ]
  },
  {
   "cell_type": "code",
   "execution_count": 22,
   "id": "cec06d14-033d-40f7-9c5f-d6271a0d2d71",
   "metadata": {},
   "outputs": [
    {
     "name": "stdout",
     "output_type": "stream",
     "text": [
      "first_name : Mohit\n",
      "last_name : Kanani\n"
     ]
    }
   ],
   "source": [
    "information(first_name = 'Mohit', last_name = 'Kanani')"
   ]
  },
  {
   "cell_type": "code",
   "execution_count": 23,
   "id": "cbd37b17-9061-4c73-a649-4495b71bb32c",
   "metadata": {},
   "outputs": [
    {
     "name": "stdout",
     "output_type": "stream",
     "text": [
      "first_name : Mohit\n",
      "middle_name : Karasanbhai\n",
      "last_name : Kanani\n"
     ]
    }
   ],
   "source": [
    "information(first_name = 'Mohit', middle_name = 'Karasanbhai' ,last_name = 'Kanani')"
   ]
  },
  {
   "cell_type": "code",
   "execution_count": 25,
   "id": "3d0ce045-dc32-40a6-b2c3-f99e8162ffea",
   "metadata": {},
   "outputs": [],
   "source": [
    "# Function With Return statement\n",
    "def net_amount(Amount,tax = 18, discount = 10):\n",
    "    discount_amount = (Amount * (discount/100))\n",
    "    tax_amount = (Amount - discount_amount) * (tax/100)\n",
    "    net = (Amount - discount_amount) + tax_amount\n",
    "    print(round(net,2))"
   ]
  },
  {
   "cell_type": "code",
   "execution_count": 26,
   "id": "c40ededa-81fc-4fb8-bd96-c04b7a64e957",
   "metadata": {},
   "outputs": [
    {
     "name": "stdin",
     "output_type": "stream",
     "text": [
      "Please enter the bill amount : 100\n",
      "Please enter tax percentage : 9\n",
      "Please enter discount percentage : 5\n"
     ]
    }
   ],
   "source": [
    "amount = float(input(\"Please enter the bill amount :\"))\n",
    "tax = float(input(\"Please enter tax percentage :\"))\n",
    "discount = float(input(\"Please enter discount percentage :\"))"
   ]
  },
  {
   "cell_type": "code",
   "execution_count": 27,
   "id": "afcbdb9b-f897-4793-938e-ef0585378a01",
   "metadata": {},
   "outputs": [
    {
     "name": "stdout",
     "output_type": "stream",
     "text": [
      "103.55\n"
     ]
    }
   ],
   "source": [
    "return_value = net_amount(amount,tax,discount)"
   ]
  },
  {
   "cell_type": "code",
   "execution_count": 28,
   "id": "e9873425-9a03-4a36-8e81-9590b04967b7",
   "metadata": {},
   "outputs": [
    {
     "name": "stdout",
     "output_type": "stream",
     "text": [
      "None\n"
     ]
    }
   ],
   "source": [
    "print(return_value)"
   ]
  },
  {
   "cell_type": "code",
   "execution_count": 34,
   "id": "80cc396b-1779-4b0e-8f8b-bf56a09bbed2",
   "metadata": {},
   "outputs": [],
   "source": [
    "def net_amount(Amount,tax = 18, discount = 10):\n",
    "    discount_amount = (Amount * (discount/100))\n",
    "    tax_amount = (Amount - discount_amount) * (tax/100)\n",
    "    net = (Amount - discount_amount) + tax_amount\n",
    "    return net"
   ]
  },
  {
   "cell_type": "code",
   "execution_count": 31,
   "id": "cf1ee1b9-7b11-45c6-af2a-fd102af7ef88",
   "metadata": {},
   "outputs": [
    {
     "name": "stdin",
     "output_type": "stream",
     "text": [
      "Please enter the bill amount : 200\n",
      "Please enter tax percentage : 18\n",
      "Please enter discount percentage : 10\n"
     ]
    }
   ],
   "source": [
    "amount = float(input(\"Please enter the bill amount :\"))\n",
    "tax = float(input(\"Please enter tax percentage :\"))\n",
    "discount = float(input(\"Please enter discount percentage :\"))"
   ]
  },
  {
   "cell_type": "code",
   "execution_count": 35,
   "id": "31312b74-a306-443d-a5f2-03eb1fd96ebb",
   "metadata": {},
   "outputs": [],
   "source": [
    "return_value = net_amount(amount,tax,discount)"
   ]
  },
  {
   "cell_type": "code",
   "execution_count": 37,
   "id": "0d662c20-de88-4aa9-81f1-56c0f89fb957",
   "metadata": {},
   "outputs": [
    {
     "name": "stdout",
     "output_type": "stream",
     "text": [
      "Total Amount to be paid 212.4\n"
     ]
    }
   ],
   "source": [
    "print(\"Total Amount to be paid\", return_value)"
   ]
  },
  {
   "cell_type": "code",
   "execution_count": null,
   "id": "7a555e04-6fd5-4c5f-84a5-dfac1e8a7367",
   "metadata": {},
   "outputs": [],
   "source": []
  }
 ],
 "metadata": {
  "kernelspec": {
   "display_name": "Python 3 (ipykernel)",
   "language": "python",
   "name": "python3"
  },
  "language_info": {
   "codemirror_mode": {
    "name": "ipython",
    "version": 3
   },
   "file_extension": ".py",
   "mimetype": "text/x-python",
   "name": "python",
   "nbconvert_exporter": "python",
   "pygments_lexer": "ipython3",
   "version": "3.8.18"
  }
 },
 "nbformat": 4,
 "nbformat_minor": 5
}
