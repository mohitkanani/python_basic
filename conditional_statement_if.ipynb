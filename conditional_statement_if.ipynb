{
 "cells": [
  {
   "cell_type": "markdown",
   "id": "95a61678-94f9-4c78-a846-d4600314e6e0",
   "metadata": {},
   "source": [
    "If statement"
   ]
  },
  {
   "cell_type": "code",
   "execution_count": 7,
   "id": "0e716632-9e4b-4e0a-9a0f-27ad60c592f2",
   "metadata": {
    "scrolled": true
   },
   "outputs": [
    {
     "name": "stdin",
     "output_type": "stream",
     "text": [
      "Enter Nationality :  Indian\n"
     ]
    }
   ],
   "source": [
    "inp = input('Enter Nationality : ')"
   ]
  },
  {
   "cell_type": "code",
   "execution_count": 10,
   "id": "acf664b6-0dfd-4b2c-88c0-825c276aa630",
   "metadata": {},
   "outputs": [
    {
     "name": "stdout",
     "output_type": "stream",
     "text": [
      "Do you prefer to speak in hindi?\n",
      "Thank you!!\n"
     ]
    }
   ],
   "source": [
    "if inp == \"Indian\":\n",
    "    print(\"Do you prefer to speak in hindi?\") # if block\n",
    "print(\"Thank you!!\")"
   ]
  },
  {
   "cell_type": "code",
   "execution_count": 11,
   "id": "d7cb8cff-9d73-4695-b1ba-505745b289fc",
   "metadata": {},
   "outputs": [
    {
     "name": "stdin",
     "output_type": "stream",
     "text": [
      "Enter Nationality :  Chinese\n"
     ]
    },
    {
     "name": "stdout",
     "output_type": "stream",
     "text": [
      "Thank you!!\n"
     ]
    }
   ],
   "source": [
    "inp = input('Enter Nationality : ')\n",
    "if inp == \"Indian\":\n",
    "    print(\"Do you prefer to speak in hindi?\") # if block\n",
    "print(\"Thank you!!\")"
   ]
  },
  {
   "cell_type": "raw",
   "id": "4bb737f4-d506-4df2-8635-80ad524f8305",
   "metadata": {},
   "source": [
    "if else statement"
   ]
  },
  {
   "cell_type": "code",
   "execution_count": 3,
   "id": "8602b755-86e3-44b6-9b30-b3c0b1d403c3",
   "metadata": {},
   "outputs": [
    {
     "name": "stdin",
     "output_type": "stream",
     "text": [
      "Enter a number :  5\n"
     ]
    }
   ],
   "source": [
    "num = int(input('Enter a number : '))"
   ]
  },
  {
   "cell_type": "code",
   "execution_count": 5,
   "id": "d961dc36-0114-4921-8891-d7864f500bde",
   "metadata": {},
   "outputs": [
    {
     "name": "stdout",
     "output_type": "stream",
     "text": [
      "5  is a positive number\n"
     ]
    }
   ],
   "source": [
    "if num > 0:\n",
    "    print(num, ' is a positive number') # if block\n",
    "else :\n",
    "    print(num, ' is a negative number') # else block"
   ]
  },
  {
   "cell_type": "code",
   "execution_count": 12,
   "id": "a7e74d82-9871-41d2-910d-01e36c8223a7",
   "metadata": {},
   "outputs": [
    {
     "name": "stdin",
     "output_type": "stream",
     "text": [
      "Enter a number :  -4\n"
     ]
    },
    {
     "name": "stdout",
     "output_type": "stream",
     "text": [
      "-4  is a negative number\n"
     ]
    }
   ],
   "source": [
    "num = int(input('Enter a number : '))\n",
    "if num > 0:\n",
    "    print(num, ' is a positive number') # if block\n",
    "else :\n",
    "    print(num, ' is a negative number') # else block"
   ]
  },
  {
   "cell_type": "code",
   "execution_count": null,
   "id": "264505a2-75d0-4f72-a4f8-00295fdb47ba",
   "metadata": {},
   "outputs": [],
   "source": [
    "# if elif statement"
   ]
  },
  {
   "cell_type": "code",
   "execution_count": 14,
   "id": "0d35294e-1e0a-4feb-acc6-37fd7315de4c",
   "metadata": {},
   "outputs": [
    {
     "name": "stdin",
     "output_type": "stream",
     "text": [
      "Please enter marks :  67\n"
     ]
    }
   ],
   "source": [
    "marks = float(input('Please enter marks : '))"
   ]
  },
  {
   "cell_type": "code",
   "execution_count": 15,
   "id": "cac438a2-d192-4655-97df-43766943a8e1",
   "metadata": {},
   "outputs": [
    {
     "name": "stdout",
     "output_type": "stream",
     "text": [
      "Grade C\n",
      "Thank you !!\n"
     ]
    }
   ],
   "source": [
    "if marks >= 90 :\n",
    "    print('Grade A') # if block\n",
    "elif marks >= 70 :\n",
    "    print('Grade B') # elif block\n",
    "elif marks >= 50 :\n",
    "    print('Grade C') # elif block\n",
    "elif marks >= 35 :\n",
    "    print('Grade D') # elif block\n",
    "else :\n",
    "    print('Grade F') # else block\n",
    "print('Thank you !!')"
   ]
  },
  {
   "cell_type": "code",
   "execution_count": 16,
   "id": "e5d609cc-2c30-43a6-a5ee-39bd28064f43",
   "metadata": {},
   "outputs": [
    {
     "name": "stdin",
     "output_type": "stream",
     "text": [
      "Please enter marks :  95.67\n"
     ]
    },
    {
     "name": "stdout",
     "output_type": "stream",
     "text": [
      "Grade A\n",
      "Thank you !!\n"
     ]
    }
   ],
   "source": [
    "marks = float(input('Please enter marks : '))\n",
    "if marks >= 90 :\n",
    "    print('Grade A') # if block\n",
    "elif marks >= 70 :\n",
    "    print('Grade B') # elif block\n",
    "elif marks >= 50 :\n",
    "    print('Grade C') # elif block\n",
    "elif marks >= 35 :\n",
    "    print('Grade D') # elif block\n",
    "else :\n",
    "    print('Grade F') # else block\n",
    "print('Thank you !!')"
   ]
  },
  {
   "cell_type": "code",
   "execution_count": null,
   "id": "78eba790-0561-4f69-a074-20b25060b8be",
   "metadata": {},
   "outputs": [],
   "source": [
    "#Nested if statement"
   ]
  },
  {
   "cell_type": "code",
   "execution_count": 17,
   "id": "3469ed11-8cf5-418a-a373-8af44fc8cdde",
   "metadata": {},
   "outputs": [
    {
     "name": "stdin",
     "output_type": "stream",
     "text": [
      "Enter a number :  45\n",
      "Enter a number :  34\n",
      "Enter a number :  76\n"
     ]
    }
   ],
   "source": [
    "a = int(input('Enter a number : '))\n",
    "b = int(input('Enter a number : '))\n",
    "c = int(input('Enter a number : '))"
   ]
  },
  {
   "cell_type": "code",
   "execution_count": 18,
   "id": "c3280b39-8279-415e-8e55-be6845eca98c",
   "metadata": {},
   "outputs": [
    {
     "name": "stdout",
     "output_type": "stream",
     "text": [
      "c ( 76 ) is greatest\n"
     ]
    }
   ],
   "source": [
    "if (a > b):\n",
    "    if (a > c):\n",
    "        print('a (', a, ') is greatest')\n",
    "    else :\n",
    "        print('c (', c, ') is greatest')\n",
    "else :\n",
    "    if (b > c):\n",
    "        print('b (', b, ') is greatest')\n",
    "    else :\n",
    "        print('c (', c, ') is greatest')"
   ]
  },
  {
   "cell_type": "code",
   "execution_count": 19,
   "id": "44754241-51fb-4ab7-8687-529950b9ff10",
   "metadata": {},
   "outputs": [
    {
     "name": "stdin",
     "output_type": "stream",
     "text": [
      "Enter a number :  56\n",
      "Enter a number :  455\n",
      "Enter a number :  454\n"
     ]
    },
    {
     "name": "stdout",
     "output_type": "stream",
     "text": [
      "b ( 455 ) is greatest\n"
     ]
    }
   ],
   "source": [
    "a = int(input('Enter a number : '))\n",
    "b = int(input('Enter a number : '))\n",
    "c = int(input('Enter a number : '))\n",
    "if (a > b):\n",
    "    if (a > c):\n",
    "        print('a (', a, ') is greatest')\n",
    "    else :\n",
    "        print('c (', c, ') is greatest')\n",
    "else :\n",
    "    if (b > c):\n",
    "        print('b (', b, ') is greatest')\n",
    "    else :\n",
    "        print('c (', c, ') is greatest')"
   ]
  },
  {
   "cell_type": "code",
   "execution_count": null,
   "id": "2c30115e-c930-4214-b81d-64214b53b418",
   "metadata": {},
   "outputs": [],
   "source": []
  }
 ],
 "metadata": {
  "kernelspec": {
   "display_name": "Python 3 (ipykernel)",
   "language": "python",
   "name": "python3"
  },
  "language_info": {
   "codemirror_mode": {
    "name": "ipython",
    "version": 3
   },
   "file_extension": ".py",
   "mimetype": "text/x-python",
   "name": "python",
   "nbconvert_exporter": "python",
   "pygments_lexer": "ipython3",
   "version": "3.8.18"
  }
 },
 "nbformat": 4,
 "nbformat_minor": 5
}
